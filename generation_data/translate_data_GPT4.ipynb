{
 "cells": [
  {
   "cell_type": "code",
   "execution_count": 1,
   "metadata": {},
   "outputs": [],
   "source": [
    "import pandas as pd\n",
    "import json\n",
    "from openai import OpenAI\n",
    "import os\n",
    "from PIL import Image\n",
    "import matplotlib.pyplot as plt\n",
    "from glob import glob\n",
    "import jsonlines\n",
    "import time\n",
    "\n",
    "\n",
    "client = OpenAI(\n",
    "  api_key=\"your_api_key\",\n",
    ")\n",
    "\n",
    "\n",
    "NUM_SECONDS_TO_SLEEP = 0.5\n",
    "def get_eval(content: str, max_tokens: int):\n",
    "  while True:\n",
    "    try:\n",
    "      response = client.chat.completions.create(\n",
    "        model='gpt-4-1106-preview',\n",
    "        messages=[{\n",
    "            'role': 'system',\n",
    "            'content': '다음 문장을 한국어로 번역해주세요.'\n",
    "        }, {\n",
    "            'role': 'user',\n",
    "            'content': content,\n",
    "        }],\n",
    "        temperature=0.2,  # TODO: figure out which temperature is best for evaluation\n",
    "        max_tokens=max_tokens,\n",
    "      )\n",
    "      break\n",
    "    except openai.RateLimitError:\n",
    "      pass\n",
    "    except Exception as e:\n",
    "      print(e)\n",
    "    time.sleep(NUM_SECONDS_TO_SLEEP)\n",
    "\n",
    "  return response.choices[0].message.content\n"
   ]
  },
  {
   "cell_type": "markdown",
   "metadata": {},
   "source": [
    "## 텍스트 전처리  \n",
    "/data/MLP/cschoi/LLaVA/playground/data/coco2014_val_qa_eval/qa90_questions.jsonl  \n",
    "../playground/data/eval/pope/val2014/COCO_val2014_000000000042.jpg  "
   ]
  },
  {
   "cell_type": "code",
   "execution_count": 2,
   "metadata": {},
   "outputs": [
    {
     "name": "stdout",
     "output_type": "stream",
     "text": [
      "{'question_id': 0, 'image': '000000441147.jpg', 'text': '이미지 속 두 개의 여행 가방 색깔은 무엇인가요?', 'category': 'conv', 'model': 'gpt-4-1106-preview'}\n",
      "{'question_id': 1, 'image': '000000441147.jpg', 'text': '이미지를 종합적이고 상세하게 분석하세요.', 'category': 'detail', 'model': 'gpt-4-1106-preview'}\n",
      "{'question_id': 2, 'image': '000000441147.jpg', 'text': '이러한 여행 가방이 가치 있게 만들 수 있는 잠재적 요인은 무엇일까요?', 'category': 'complex', 'model': 'gpt-4-1106-preview'}\n",
      "{'question_id': 3, 'image': '000000353536.jpg', 'text': '이미지 속 테이블 위의 주요 물건들은 무엇인가요?', 'category': 'conv', 'model': 'gpt-4-1106-preview'}\n",
      "{'question_id': 4, 'image': '000000353536.jpg', 'text': '다음 이미지를 묘사해주세요.', 'category': 'detail', 'model': 'gpt-4-1106-preview'}\n",
      "{'question_id': 5, 'image': '000000353536.jpg', 'text': '이 테이블 주변에서 최근에 어떤 활동이 있었을까요, 그리고 그 결과는 무엇일까요?', 'category': 'complex', 'model': 'gpt-4-1106-preview'}\n",
      "{'question_id': 6, 'image': '000000506095.jpg', 'text': '이 이미지의 주요 초점은 무엇인가요?', 'category': 'conv', 'model': 'gpt-4-1106-preview'}\n",
      "{'question_id': 7, 'image': '000000506095.jpg', 'text': '이 사진은 무엇에 관한 건가요?', 'category': 'detail', 'model': 'gpt-4-1106-preview'}\n",
      "{'question_id': 8, 'image': '000000506095.jpg', 'text': '고양이가 노트북에 관심을 보이는 이유는 무엇일까요?', 'category': 'complex', 'model': 'gpt-4-1106-preview'}\n",
      "{'question_id': 9, 'image': '000000514915.jpg', 'text': '이미지 속 개는 어떤 색인가요?', 'category': 'conv', 'model': 'gpt-4-1106-preview'}\n",
      "{'question_id': 10, 'image': '000000514915.jpg', 'text': '다음 이미지를 묘사해주세요.', 'category': 'detail', 'model': 'gpt-4-1106-preview'}\n",
      "{'question_id': 11, 'image': '000000514915.jpg', 'text': '이 위치에서 개가 바닥에 누워 있기로 한 이유는 무엇일까요?', 'category': 'complex', 'model': 'gpt-4-1106-preview'}\n",
      "{'question_id': 12, 'image': '000000056013.jpg', 'text': '짐 가방이 있는 카트는 어디에 있나요?', 'category': 'conv', 'model': 'gpt-4-1106-preview'}\n",
      "{'question_id': 13, 'image': '000000056013.jpg', 'text': '다음 이미지를 묘사해주세요.', 'category': 'detail', 'model': 'gpt-4-1106-preview'}\n",
      "{'question_id': 14, 'image': '000000056013.jpg', 'text': '직원들이 로비에서 짐을 처리할 때 어떤 어려움을 겪을 수 있을까요?', 'category': 'complex', 'model': 'gpt-4-1106-preview'}\n",
      "{'question_id': 15, 'image': '000000408439.jpg', 'text': '이미지에서 보이는 물체는 무엇인가요?', 'category': 'conv', 'model': 'gpt-4-1106-preview'}\n",
      "{'question_id': 16, 'image': '000000408439.jpg', 'text': '제공된 그림의 요소에 대해 자세히 설명해 주실 수 있나요?', 'category': 'detail', 'model': 'gpt-4-1106-preview'}\n",
      "{'question_id': 17, 'image': '000000408439.jpg', 'text': '기차가 이렇게 경치 좋은 노선을 따라 운행하는 잠재적인 이유는 무엇일까요?', 'category': 'complex', 'model': 'gpt-4-1106-preview'}\n",
      "{'question_id': 18, 'image': '000000164255.jpg', 'text': '이미지에서 주요 객체는 무엇입니까?', 'category': 'conv', 'model': 'gpt-4-1106-preview'}\n",
      "{'question_id': 19, 'image': '000000164255.jpg', 'text': '이 스냅샷에서 무슨 일이 일어나고 있다고 생각하세요?', 'category': 'detail', 'model': 'gpt-4-1106-preview'}\n",
      "{'question_id': 20, 'image': '000000164255.jpg', 'text': '해변에서 우산이 어떤 목적으로 사용되나요?', 'category': 'complex', 'model': 'gpt-4-1106-preview'}\n",
      "{'question_id': 21, 'image': '000000034096.jpg', 'text': '집이 건설 중인 단계가 어디쯤인가요?', 'category': 'conv', 'model': 'gpt-4-1106-preview'}\n",
      "{'question_id': 22, 'image': '000000034096.jpg', 'text': '이 사진은 무엇에 관한 건가요?', 'category': 'detail', 'model': 'gpt-4-1106-preview'}\n",
      "{'question_id': 23, 'image': '000000034096.jpg', 'text': '현재 상태에서 주택 건설에 잠재적인 장애물이 될 수 있는 것은 무엇일까요?', 'category': 'complex', 'model': 'gpt-4-1106-preview'}\n",
      "{'question_id': 24, 'image': '000000385873.jpg', 'text': '이미지에 피자가 몇 개 있나요?', 'category': 'conv', 'model': 'gpt-4-1106-preview'}\n",
      "{'question_id': 25, 'image': '000000385873.jpg', 'text': '이미지의 시각적 내용을 자세히 설명해주세요.', 'category': 'detail', 'model': 'gpt-4-1106-preview'}\n",
      "{'question_id': 26, 'image': '000000385873.jpg', 'text': '이 피자들을 여러 사람들에게 공평하게 나누어 줄 때 마주칠 수 있는 잠재적인 어려움은 무엇일까요?', 'category': 'complex', 'model': 'gpt-4-1106-preview'}\n",
      "{'question_id': 27, 'image': '000000367571.jpg', 'text': '상자 안에 도넛이 몇 개 있어요?', 'category': 'conv', 'model': 'gpt-4-1106-preview'}\n",
      "{'question_id': 28, 'image': '000000367571.jpg', 'text': '주어진 이미지에 대한 자세한 설명을 작성하십시오.', 'category': 'detail', 'model': 'gpt-4-1106-preview'}\n",
      "{'question_id': 29, 'image': '000000367571.jpg', 'text': '이 도넛 상자 안에서 어떤 독특한 맛 조합을 찾을 수 있나요?', 'category': 'complex', 'model': 'gpt-4-1106-preview'}\n",
      "{'question_id': 30, 'image': '000000319432.jpg', 'text': '이미지 속 남자는 무엇을 하고 있나요?', 'category': 'conv', 'model': 'gpt-4-1106-preview'}\n",
      "{'question_id': 31, 'image': '000000319432.jpg', 'text': '이 이미지의 주요 특징을 설명해줄 수 있나요?', 'category': 'detail', 'model': 'gpt-4-1106-preview'}\n",
      "{'question_id': 32, 'image': '000000319432.jpg', 'text': '그 남자가 옷걸이에 옷을 들고 있는 이유는 무엇일까요?', 'category': 'complex', 'model': 'gpt-4-1106-preview'}\n",
      "{'question_id': 33, 'image': '000000225738.jpg', 'text': '이미지에 몇 마리의 기린이 그려져 있습니까?', 'category': 'conv', 'model': 'gpt-4-1106-preview'}\n",
      "{'question_id': 34, 'image': '000000225738.jpg', 'text': '주어진 이미지에 대한 자세한 설명을 작성하십시오.', 'category': 'detail', 'model': 'gpt-4-1106-preview'}\n",
      "{'question_id': 35, 'image': '000000225738.jpg', 'text': '이 기린들이 왜 같은 나무 근처에 모이고 있을까요?', 'category': 'complex', 'model': 'gpt-4-1106-preview'}\n",
      "{'question_id': 36, 'image': '000000092109.jpg', 'text': '이미지의 주요 초점은 무엇인가요?', 'category': 'conv', 'model': 'gpt-4-1106-preview'}\n",
      "{'question_id': 37, 'image': '000000092109.jpg', 'text': '이 사진은 무엇에 관한 건가요?', 'category': 'detail', 'model': 'gpt-4-1106-preview'}\n",
      "{'question_id': 38, 'image': '000000092109.jpg', 'text': '이 이미지로부터 기린의 서식지에 대해 어떤 것을 추론할 수 있나요?', 'category': 'complex', 'model': 'gpt-4-1106-preview'}\n",
      "{'question_id': 39, 'image': '000000506483.jpg', 'text': '이 예술 설치작품에는 어떤 종류의 물체들이 포함되어 있나요?', 'category': 'conv', 'model': 'gpt-4-1106-preview'}\n",
      "{'question_id': 40, 'image': '000000506483.jpg', 'text': '이미지의 시각적 내용을 자세히 설명해주세요.', 'category': 'detail', 'model': 'gpt-4-1106-preview'}\n",
      "{'question_id': 41, 'image': '000000506483.jpg', 'text': '이 예술 설치작품은 사람들 사이의 상호작용을 어떻게 장려할 수 있을까요?', 'category': 'complex', 'model': 'gpt-4-1106-preview'}\n",
      "{'question_id': 42, 'image': '000000097131.jpg', 'text': '이미지의 주요 초점은 무엇인가요?', 'category': 'conv', 'model': 'gpt-4-1106-preview'}\n",
      "{'question_id': 43, 'image': '000000097131.jpg', 'text': '제공된 그림의 요소에 대해 자세히 설명해 주실 수 있나요?', 'category': 'detail', 'model': 'gpt-4-1106-preview'}\n",
      "{'question_id': 44, 'image': '000000097131.jpg', 'text': '도로 변에 차가 주차되어 있는 이유는 무엇일까요?', 'category': 'complex', 'model': 'gpt-4-1106-preview'}\n",
      "{'question_id': 45, 'image': '000000052312.jpg', 'text': '이미지 속 노인의 얼굴 외모에 무엇이 이상한가요?', 'category': 'conv', 'model': 'gpt-4-1106-preview'}\n",
      "{'question_id': 46, 'image': '000000052312.jpg', 'text': '장면에서 무슨 일이 일어나고 있나요?', 'category': 'detail', 'model': 'gpt-4-1106-preview'}\n",
      "{'question_id': 47, 'image': '000000052312.jpg', 'text': '그 남자의 이례적인 얼굴 장식이 전달하려는 메시지는 무엇일까요?', 'category': 'complex', 'model': 'gpt-4-1106-preview'}\n",
      "{'question_id': 48, 'image': '000000258285.jpg', 'text': '이미지에서 보이는 비행기는 몇 대인가요?', 'category': 'conv', 'model': 'gpt-4-1106-preview'}\n",
      "{'question_id': 49, 'image': '000000258285.jpg', 'text': '이 이미지에서 무슨 일이 일어나고 있다고 생각하나요?', 'category': 'detail', 'model': 'gpt-4-1106-preview'}\n",
      "{'question_id': 50, 'image': '000000258285.jpg', 'text': '이 비행기들의 활동이 새들에게 어떤 환경적 영향을 미칠 수 있을까요?', 'category': 'complex', 'model': 'gpt-4-1106-preview'}\n",
      "{'question_id': 51, 'image': '000000081552.jpg', 'text': '그 고양이는 빨간 소파에서 무엇을 하고 있나요?', 'category': 'conv', 'model': 'gpt-4-1106-preview'}\n",
      "{'question_id': 52, 'image': '000000081552.jpg', 'text': '주어진 이미지에 대한 자세한 설명을 작성하십시오.', 'category': 'detail', 'model': 'gpt-4-1106-preview'}\n",
      "{'question_id': 53, 'image': '000000081552.jpg', 'text': '고양이가 이 장소를 잠자는 곳으로 선택한 이유가 될 수 있는 요인은 무엇일까요?', 'category': 'complex', 'model': 'gpt-4-1106-preview'}\n",
      "{'question_id': 54, 'image': '000000066144.jpg', 'text': '이미지에서 정지 표지판 옆에 주차된 차는 어떤 종류인가요?', 'category': 'conv', 'model': 'gpt-4-1106-preview'}\n",
      "{'question_id': 55, 'image': '000000066144.jpg', 'text': '이미지의 시각적 내용을 자세히 설명해주세요.', 'category': 'detail', 'model': 'gpt-4-1106-preview'}\n",
      "{'question_id': 56, 'image': '000000066144.jpg', 'text': '해당 지역의 교통 상황에 대해 어떤 추론을 할 수 있나요?', 'category': 'complex', 'model': 'gpt-4-1106-preview'}\n",
      "{'question_id': 57, 'image': '000000203629.jpg', 'text': '이미지 속 남자는 무엇을 하고 있나요?', 'category': 'conv', 'model': 'gpt-4-1106-preview'}\n",
      "{'question_id': 58, 'image': '000000203629.jpg', 'text': '이 이미지의 주요 특징을 설명해줄 수 있나요?', 'category': 'detail', 'model': 'gpt-4-1106-preview'}\n",
      "{'question_id': 59, 'image': '000000203629.jpg', 'text': '전화를 하면서 남자가 엄지손가락을 치켜세운 제스처 뒤에 숨겨진 이유는 무엇일까요?', 'category': 'complex', 'model': 'gpt-4-1106-preview'}\n",
      "{'question_id': 60, 'image': '000000109532.jpg', 'text': '이미지 속 개는 어떤 종인가요?', 'category': 'conv', 'model': 'gpt-4-1106-preview'}\n",
      "{'question_id': 61, 'image': '000000109532.jpg', 'text': '이 그림에서 핵심 요소는 무엇인가요?', 'category': 'detail', 'model': 'gpt-4-1106-preview'}\n",
      "{'question_id': 62, 'image': '000000109532.jpg', 'text': '개 주인은 방에서 개가 편안함을 느끼도록 어떤 조치를 취할 수 있을까요?', 'category': 'complex', 'model': 'gpt-4-1106-preview'}\n",
      "{'question_id': 63, 'image': '000000431165.jpg', 'text': '이미지 속 코끼리의 색깔은 무엇인가요?', 'category': 'conv', 'model': 'gpt-4-1106-preview'}\n",
      "{'question_id': 64, 'image': '000000431165.jpg', 'text': '이 스냅샷에서 무슨 일이 일어나고 있다고 생각하세요?', 'category': 'detail', 'model': 'gpt-4-1106-preview'}\n",
      "{'question_id': 65, 'image': '000000431165.jpg', 'text': '이 환경에서 새끼 코끼리에게 잠재적인 우려사항이 무엇일까요?', 'category': 'complex', 'model': 'gpt-4-1106-preview'}\n",
      "{'question_id': 66, 'image': '000000020650.jpg', 'text': '오렌지색 접시에는 어떤 종류의 음식이 있습니까?', 'category': 'conv', 'model': 'gpt-4-1106-preview'}\n",
      "{'question_id': 67, 'image': '000000020650.jpg', 'text': '이 그림에서 핵심 요소는 무엇인가요?', 'category': 'detail', 'model': 'gpt-4-1106-preview'}\n",
      "{'question_id': 68, 'image': '000000020650.jpg', 'text': '개인의 식단 선택에 대해 어떤 추론을 할 수 있을까요?', 'category': 'complex', 'model': 'gpt-4-1106-preview'}\n",
      "{'question_id': 69, 'image': '000000205183.jpg', 'text': '이미지에 나타난 새는 어떤 종류인가요?', 'category': 'conv', 'model': 'gpt-4-1106-preview'}\n",
      "{'question_id': 70, 'image': '000000205183.jpg', 'text': '이 이미지에서 무슨 일이 일어나고 있다고 생각하나요?', 'category': 'detail', 'model': 'gpt-4-1106-preview'}\n",
      "{'question_id': 71, 'image': '000000205183.jpg', 'text': '오리가 포장된 길을 걸어갈 때 어떤 어려움을 겪을 수 있을까요?', 'category': 'complex', 'model': 'gpt-4-1106-preview'}\n",
      "{'question_id': 72, 'image': '000000210299.jpg', 'text': '그 작은 소년이 자전거를 탈 때 안전 장비를 착용하고 있나요?', 'category': 'conv', 'model': 'gpt-4-1106-preview'}\n",
      "{'question_id': 73, 'image': '000000210299.jpg', 'text': '제공된 그림의 요소에 대해 자세히 설명해 줄 수 있나요?', 'category': 'detail', 'model': 'gpt-4-1106-preview'}\n",
      "{'question_id': 74, 'image': '000000210299.jpg', 'text': '작은 소년의 주의가 왜 주목할 만한가?', 'category': 'complex', 'model': 'gpt-4-1106-preview'}\n",
      "{'question_id': 75, 'image': '000000515716.jpg', 'text': '이미지에 보이는 사람은 몇 명입니까?', 'category': 'conv', 'model': 'gpt-4-1106-preview'}\n",
      "{'question_id': 76, 'image': '000000515716.jpg', 'text': '이 이미지에서 무슨 일이 일어나고 있는 것 같나요?', 'category': 'detail', 'model': 'gpt-4-1106-preview'}\n",
      "{'question_id': 77, 'image': '000000515716.jpg', 'text': '이 모임의 배경에는 어떤 이유가 있을까요?', 'category': 'complex', 'model': 'gpt-4-1106-preview'}\n",
      "{'question_id': 78, 'image': '000000460149.jpg', 'text': '이미지에 나타난 주요 객체는 무엇입니까?', 'category': 'conv', 'model': 'gpt-4-1106-preview'}\n",
      "{'question_id': 79, 'image': '000000460149.jpg', 'text': '다음 이미지를 묘사해주세요.', 'category': 'detail', 'model': 'gpt-4-1106-preview'}\n",
      "{'question_id': 80, 'image': '000000460149.jpg', 'text': '이 길을 걷고 있다고 상상해보세요; 시간을 어떻게 알 수 있을까요 또는 인도가 어느 방향으로 이어지는지 어떻게 알 수 있을까요?', 'category': 'complex', 'model': 'gpt-4-1106-preview'}\n",
      "{'question_id': 81, 'image': '000000293505.jpg', 'text': '그 사람이 오토바이를 타고 있나요, 아니면 스쿠터를 타고 있나요?', 'category': 'conv', 'model': 'gpt-4-1106-preview'}\n",
      "{'question_id': 82, 'image': '000000293505.jpg', 'text': '이미지의 시각적 내용을 자세히 설명하세요.', 'category': 'detail', 'model': 'gpt-4-1106-preview'}\n",
      "{'question_id': 83, 'image': '000000293505.jpg', 'text': '이 상황에서 오토바이를 탄 여성이 어떤 어려움에 직면할 수 있을까요?', 'category': 'complex', 'model': 'gpt-4-1106-preview'}\n",
      "{'question_id': 84, 'image': '000000525439.jpg', 'text': '이미지에서 스케이트보드의 위치는 어디인가요?', 'category': 'conv', 'model': 'gpt-4-1106-preview'}\n",
      "{'question_id': 85, 'image': '000000525439.jpg', 'text': '제공된 그림의 요소에 대해 자세히 설명해 주실 수 있나요?', 'category': 'detail', 'model': 'gpt-4-1106-preview'}\n",
      "{'question_id': 86, 'image': '000000525439.jpg', 'text': '이 순간 이전에 무슨 일이 있었을까요?', 'category': 'complex', 'model': 'gpt-4-1106-preview'}\n",
      "{'question_id': 87, 'image': '000000534270.jpg', 'text': '그 남자와 여자는 어떤 종류의 모자를 쓰고 있나요?', 'category': 'conv', 'model': 'gpt-4-1106-preview'}\n",
      "{'question_id': 88, 'image': '000000534270.jpg', 'text': '이 이미지의 주요 특징을 설명해 줄 수 있나요?', 'category': 'detail', 'model': 'gpt-4-1106-preview'}\n",
      "{'question_id': 89, 'image': '000000534270.jpg', 'text': '이 비 오는 날에 우산 모자가 이 커플에게 어떤 이점을 제공하나요?', 'category': 'complex', 'model': 'gpt-4-1106-preview'}\n"
     ]
    }
   ],
   "source": [
    "import json\n",
    "\n",
    "dir = '../playground/data/coco2014_val_qa_eval/qa90_questions.jsonl'\n",
    "img_dir = '../playground/data/eval/pope/val2014/COCO_val2014_'\n",
    "model_name = 'gpt-4-1106-preview'  # Model name\n",
    "benchmark_name = 'coco2014_val_qa_eval'  # Benchmark name\n",
    "language = 'ko'  # Language of the benchmark\n",
    "output_dir = f'./generated_data/benchmark_data/[{model_name}]_[{benchmark_name}]_[{language}].json'  # Output file path\n",
    "\n",
    "output_data = []  # List to hold the output data\n",
    "\n",
    "# Open the JSONL file in read mode\n",
    "with jsonlines.open(dir, 'r') as reader:\n",
    "    # Iterate over each line in the file\n",
    "    for line in reader:\n",
    "        line['text'] = get_eval(line['text'], 300)\n",
    "        line['model'] = model_name\n",
    "        print(line)\n",
    "\n",
    "        output_data.append(line)  # Add the line to the output data\n",
    "\n",
    "# Write the output data to a JSON file\n",
    "with open(output_dir, 'w') as outfile:\n",
    "    json.dump(output_data, outfile)"
   ]
  },
  {
   "cell_type": "code",
   "execution_count": 4,
   "metadata": {},
   "outputs": [],
   "source": [
    "with open(output_dir, 'w') as outfile:\n",
    "    json.dump(output_data, outfile, indent=4, ensure_ascii=False)"
   ]
  },
  {
   "cell_type": "code",
   "execution_count": 19,
   "metadata": {},
   "outputs": [],
   "source": [
    "result =  response.json()"
   ]
  },
  {
   "cell_type": "code",
   "execution_count": 22,
   "metadata": {},
   "outputs": [
    {
     "data": {
      "text/plain": [
       "{'id': 'chatcmpl-8Mx8BlsBH9mXOjm1jXLnMCYlMutKJ',\n",
       " 'object': 'chat.completion',\n",
       " 'created': 1700481207,\n",
       " 'model': 'gpt-4-1106-vision-preview',\n",
       " 'usage': {'prompt_tokens': 778,\n",
       "  'completion_tokens': 119,\n",
       "  'total_tokens': 897},\n",
       " 'choices': [{'message': {'role': 'assistant',\n",
       "    'content': 'This is an image of the Mona Lisa, a famous portrait painting by Leonardo da Vinci. The subject of the painting is a woman, seated against a distant landscape which includes winding paths and a faint blue horizon of mountains. She is notable for her serene and enigmatic expression, leading to much speculation about her mood and thoughts. The Mona Lisa is celebrated for its exquisite detail, use of sfumato (a technique of blending colors and tones), and its subtle modeling of forms. It is one of the most recognized and valuable paintings in the world, displayed at the Louvre Museum in Paris.'},\n",
       "   'finish_details': {'type': 'stop', 'stop': '<|fim_suffix|>'},\n",
       "   'index': 0}]}"
      ]
     },
     "execution_count": 22,
     "metadata": {},
     "output_type": "execute_result"
    }
   ],
   "source": [
    "result"
   ]
  },
  {
   "cell_type": "code",
   "execution_count": 25,
   "metadata": {},
   "outputs": [
    {
     "data": {
      "text/plain": [
       "'This is an image of the Mona Lisa, a famous portrait painting by Leonardo da Vinci. The subject of the painting is a woman, seated against a distant landscape which includes winding paths and a faint blue horizon of mountains. She is notable for her serene and enigmatic expression, leading to much speculation about her mood and thoughts. The Mona Lisa is celebrated for its exquisite detail, use of sfumato (a technique of blending colors and tones), and its subtle modeling of forms. It is one of the most recognized and valuable paintings in the world, displayed at the Louvre Museum in Paris.'"
      ]
     },
     "execution_count": 25,
     "metadata": {},
     "output_type": "execute_result"
    }
   ],
   "source": [
    "result['choices'][0]['message']['content']"
   ]
  },
  {
   "cell_type": "code",
   "execution_count": null,
   "metadata": {},
   "outputs": [],
   "source": []
  },
  {
   "cell_type": "markdown",
   "metadata": {},
   "source": []
  }
 ],
 "metadata": {
  "kernelspec": {
   "display_name": ".venv",
   "language": "python",
   "name": "python3"
  },
  "language_info": {
   "codemirror_mode": {
    "name": "ipython",
    "version": 3
   },
   "file_extension": ".py",
   "mimetype": "text/x-python",
   "name": "python",
   "nbconvert_exporter": "python",
   "pygments_lexer": "ipython3",
   "version": "3.8.8"
  }
 },
 "nbformat": 4,
 "nbformat_minor": 2
}
