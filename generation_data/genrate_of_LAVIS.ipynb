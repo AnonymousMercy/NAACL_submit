{
 "cells": [
  {
   "cell_type": "markdown",
   "metadata": {},
   "source": [
    "# InstructBLIP 영어"
   ]
  },
  {
   "cell_type": "code",
   "execution_count": 1,
   "metadata": {},
   "outputs": [
    {
     "name": "stderr",
     "output_type": "stream",
     "text": [
      "/data/MLP/cschoi/LLaVA/.venv/lib/python3.8/site-packages/setuptools/distutils_patch.py:25: UserWarning: Distutils was imported before Setuptools. This usage is discouraged and may exhibit undesirable behaviors or errors. Please use Setuptools' objects directly or at least import Setuptools first.\n",
      "  warnings.warn(\n"
     ]
    },
    {
     "data": {
      "application/vnd.jupyter.widget-view+json": {
       "model_id": "284baf0e553e444b9067b4873cbaa66c",
       "version_major": 2,
       "version_minor": 0
      },
      "text/plain": [
       "Loading checkpoint shards:   0%|          | 0/4 [00:00<?, ?it/s]"
      ]
     },
     "metadata": {},
     "output_type": "display_data"
    },
    {
     "data": {
      "application/vnd.jupyter.widget-view+json": {
       "model_id": "535c02c7e59342fcb86f410870885946",
       "version_major": 2,
       "version_minor": 0
      },
      "text/plain": [
       "qformer_tokenizer/tokenizer_config.json:   0%|          | 0.00/343 [00:00<?, ?B/s]"
      ]
     },
     "metadata": {},
     "output_type": "display_data"
    },
    {
     "data": {
      "application/vnd.jupyter.widget-view+json": {
       "model_id": "946418bcfbc046ada686910f7e4b9cd2",
       "version_major": 2,
       "version_minor": 0
      },
      "text/plain": [
       "qformer_tokenizer/vocab.txt:   0%|          | 0.00/232k [00:00<?, ?B/s]"
      ]
     },
     "metadata": {},
     "output_type": "display_data"
    },
    {
     "data": {
      "application/vnd.jupyter.widget-view+json": {
       "model_id": "489257e22f58445eb13dccc93ce4ed59",
       "version_major": 2,
       "version_minor": 0
      },
      "text/plain": [
       "qformer_tokenizer/tokenizer.json:   0%|          | 0.00/712k [00:00<?, ?B/s]"
      ]
     },
     "metadata": {},
     "output_type": "display_data"
    },
    {
     "data": {
      "application/vnd.jupyter.widget-view+json": {
       "model_id": "bfec5e7a3f60459ba0cadc966cb9552a",
       "version_major": 2,
       "version_minor": 0
      },
      "text/plain": [
       "qformer_tokenizer/added_tokens.json:   0%|          | 0.00/21.0 [00:00<?, ?B/s]"
      ]
     },
     "metadata": {},
     "output_type": "display_data"
    },
    {
     "data": {
      "application/vnd.jupyter.widget-view+json": {
       "model_id": "48e58e14a653434c834d038257125237",
       "version_major": 2,
       "version_minor": 0
      },
      "text/plain": [
       "(…)former_tokenizer/special_tokens_map.json:   0%|          | 0.00/149 [00:00<?, ?B/s]"
      ]
     },
     "metadata": {},
     "output_type": "display_data"
    },
    {
     "data": {
      "application/vnd.jupyter.widget-view+json": {
       "model_id": "53e060f738f946d7b1e18a799de00d8b",
       "version_major": 2,
       "version_minor": 0
      },
      "text/plain": [
       "preprocessor_config.json:   0%|          | 0.00/439 [00:00<?, ?B/s]"
      ]
     },
     "metadata": {},
     "output_type": "display_data"
    },
    {
     "data": {
      "application/vnd.jupyter.widget-view+json": {
       "model_id": "476f70cf985f4e07940098a40b4d0553",
       "version_major": 2,
       "version_minor": 0
      },
      "text/plain": [
       "tokenizer_config.json:   0%|          | 0.00/442 [00:00<?, ?B/s]"
      ]
     },
     "metadata": {},
     "output_type": "display_data"
    },
    {
     "data": {
      "application/vnd.jupyter.widget-view+json": {
       "model_id": "4e6c312c6a734195966741f55876c3f4",
       "version_major": 2,
       "version_minor": 0
      },
      "text/plain": [
       "tokenizer.model:   0%|          | 0.00/500k [00:00<?, ?B/s]"
      ]
     },
     "metadata": {},
     "output_type": "display_data"
    },
    {
     "data": {
      "application/vnd.jupyter.widget-view+json": {
       "model_id": "3e84989f52fa4b8fba8552f1b510505a",
       "version_major": 2,
       "version_minor": 0
      },
      "text/plain": [
       "tokenizer.json:   0%|          | 0.00/1.84M [00:00<?, ?B/s]"
      ]
     },
     "metadata": {},
     "output_type": "display_data"
    },
    {
     "data": {
      "application/vnd.jupyter.widget-view+json": {
       "model_id": "7b7b1237496b4d45adc628452b1a3425",
       "version_major": 2,
       "version_minor": 0
      },
      "text/plain": [
       "added_tokens.json:   0%|          | 0.00/21.0 [00:00<?, ?B/s]"
      ]
     },
     "metadata": {},
     "output_type": "display_data"
    },
    {
     "data": {
      "application/vnd.jupyter.widget-view+json": {
       "model_id": "1d7aea8257a7482daf2d3ee674b84993",
       "version_major": 2,
       "version_minor": 0
      },
      "text/plain": [
       "special_tokens_map.json:   0%|          | 0.00/209 [00:00<?, ?B/s]"
      ]
     },
     "metadata": {},
     "output_type": "display_data"
    },
    {
     "data": {
      "application/vnd.jupyter.widget-view+json": {
       "model_id": "8014d344d5cd4739984fcecbcbec9ccb",
       "version_major": 2,
       "version_minor": 0
      },
      "text/plain": [
       "0it [00:00, ?it/s]"
      ]
     },
     "metadata": {},
     "output_type": "display_data"
    },
    {
     "name": "stdout",
     "output_type": "stream",
     "text": [
      "The two suitcases in the image are black.\n",
      "The image features a collection of antique suitcases stacked on top of each other in a room. There are three suitcases in total, with two of them placed side-by-side and the third one resting on top of the other two. The suitcases are of different sizes and colors, adding to the vintage appeal of the display. A chair can be seen in the background, providing a sense of context to the scene.\n",
      "The potential factors that could make these suitcases valuable include their rarity, historical significance, or unique design features. These suitcases are stacked on top of each other, and one of them has a tag attached to it, indicating that it might be a valuable antique or collector's item.\n",
      "The main objects on the table in the image are plates and forks.\n",
      "The image depicts a dining table set with multiple plates, bowls, and utensils. There are two forks on the table, one on the left side and the other on the right side. A bottle is also present on the table, likely containing an alcoholic beverage. Additionally, there are several glasses scattered around the table, some closer to the forks and others further away. The dining area appears to be dimly lit, giving the scene a warm and intimate atmosphere.\n",
      "The activity might have been a meal, and the aftermath could be dirty dishes and leftovers on the table.\n",
      "The main focus of the image is a cat sitting on a desk in front of a laptop computer.\n",
      "The image depicts a cat sitting on a desk in front of a laptop computer. The cat appears to be curious about the laptop, as it is positioned close to the edge of the desk. There are several other items on the desk, such as books, a mouse, and a cell phone, adding to the cluttered appearance of the workspace. The cat's presence adds a playful touch to the scene.\n",
      "it's warm\n",
      "The dog in the image is black.\n",
      "The image depicts a black dog lying on the floor of a kitchen. The dog is positioned in the center of the scene, surrounded by various kitchen appliances such as a refrigerator, a microwave, and a dishwasher. There are also several bowls scattered around the room, including one near the dog's head and another close to the refrigerator. The dog appears to be resting and enjoying the company of its surroundings.\n",
      "for comfort\n",
      "hotel lobby\n",
      "The image depicts a luggage cart in a hotel lobby, filled with various pieces of luggage and bags. The cart is positioned in the middle of the room, surrounded by people who appear to be checking in or out of the hotel. The luggage on the cart includes suitcases, backpacks, and other types of bags. Some of the bags are placed closer to the front of the cart, while others are situated further back. The luggage cart serves as a convenient way for guests to transport their belongings around the hotel lobby.\n",
      "The staff might encounter challenges with handling luggage in the lobby due to the large number of suitcases and bags.\n",
      "lake\n",
      "The image depicts a scenic view of a large body of water surrounded by a mountainous landscape, with a train traveling along the water's edge. There are several trees scattered throughout the landscape, adding to the natural beauty of the scene. The train appears to be moving slowly along the water, creating a peaceful and serene atmosphere.\n",
      "tourism\n",
      "The main object in the image is an umbrella.\n",
      "The image depicts a colorful beach umbrella standing on the sand near the ocean. The umbrella is positioned close to the water's edge, providing shade and protection from the sun for beachgoers. There are several people visible in the scene, likely enjoying their time at the beach under the umbrella. Some of them can be seen closer to the umbrella, while others are further away from it.\n",
      "shade\n",
      "framing\n",
      "The image depicts an unfinished room in a house under construction. It appears to be a living room, as there is a couch situated in the middle of the room. There are also several pieces of furniture scattered throughout the space, including a chair and a table.  In addition to the furniture, there are several windows visible in the room, providing natural lighting for the space. The room is still under construction, with wooden framing visible on the walls and floor. A television can be spotted in the corner of the room, adding to the overall atmosphere of the unfinished space.\n",
      "lack of electricity\n",
      "There are three pizzas in the image.\n",
      "The image features three open pizza boxes, each containing a different type of pizza. There are two large pizzas and one smaller pizza in the boxes. The larger pizzas are placed on the left side of the image, while the smaller pizza is located on the right side.  In addition to the pizzas, there are several cups scattered throughout the scene. Two cups can be seen on the left side of the image, and one cup is positioned on the right side. A bottle is also visible on the right side of the image, close to the smaller pizza. Overall, the scene showcases a variety of food items, including pizzas, cups, and a bottle.\n",
      "Dividing the pizzas equitably among a group of people can be challenging due to varying preferences and appetites.\n",
      "4\n",
      "The image features an open cardboard box filled with four delicious-looking doughnuts of various flavors and toppings. The doughnuts are arranged neatly in the box, making it a tempting treat for anyone who loves doughnuts.\n",
      "chocolate, coconut, and caramel\n",
      "The man is holding a suit jacket and a garment bag.\n",
      "The image depicts a young man standing in front of a window, holding two garment bags and a suitcase. He appears to be preparing for a trip, possibly packing his belongings. The suitcase is positioned towards the left side of the room, while the garment bags are placed closer to the center of the scene. There is another suitcase located on the right side of the room, slightly further away from the main suitcase. In addition to the luggage, there is a potted plant visible in the background, adding a touch of nature to the scene.\n",
      "preparing for travel\n",
      "There are three giraffes depicted in the image.\n",
      "The image depicts three giraffes standing in a grassy field, surrounded by trees and bushes. They appear to be socializing and eating from the branches of the trees. The giraffes are spread out across the scene, with one giraffe on the left side, another in the middle, and the third on the right side. There are several trees visible in the background, providing shade for the giraffes. Additionally, there are several bushes scattered throughout the scene, adding to the natural setting.\n",
      "for food\n",
      "giraffe\n",
      "The image features a close-up view of a giraffe standing in front of a lush green forest. The giraffe is the main focus of the scene, with its head and neck prominently displayed. There are several trees visible in the background, creating a serene and natural environment for the giraffe to reside in.\n",
      "it's in a zoo\n",
      "bench and tiger head\n",
      "The image is an overhead view of a busy city street, with several cars parked along the sidewalk. There are two benches in the scene, one on the left side and the other on the right side of the street.  In addition to the benches, there are several pedestrians walking along the sidewalk. One person is closer to the left side of the street, while another person is closer to the right side of the street. A truck is also visible in the scene, parked near the center of the street. Overall, the scene depicts a bustling urban environment with various vehicles and pedestrians moving about.\n",
      "The art installation might encourage interaction among people by creating a unique and eye-catching environment that draws attention and invites people to engage with it.\n",
      "car\n",
      "The image features a gray car parked next to a parking meter on a city street. There are several other vehicles in the scene, including a truck, a car, and a motorcycle. Additionally, there is a fire hydrant near the parking meter, and a traffic light can be seen at the end of the street. A person is also visible in the scene, walking towards the right side of the image.\n",
      "meter expired\n",
      "he has toothbrush on his face\n",
      "a man wearing a toothbrush as a mustache\n",
      "he's pretending to be a dentist\n",
      "There are two airplanes visible in the image.\n",
      "The image depicts two large airplanes flying over a body of water. One of the airplanes is closer to the water, while the other is further away. There are several birds scattered throughout the scene, likely attracted by the presence of the airplanes. In total, there are at least 10 birds visible in the scene.\n",
      "The planes' activity might disrupt the birds' feeding and nesting habits.\n",
      "sleeping\n",
      "The image features a calico cat curled up on a red velvet couch, taking a nap. The cat is positioned in the middle of the couch and appears to be enjoying its resting spot.  There are several cushions on the couch, providing a comfortable surface for the cat to lounge on. In addition to the main couch, there are two smaller cushions nearby, one on the left side and the other on the right side of the main couch.\n",
      "comfort\n",
      "Volkswagen\n",
      "The image features a vintage Volkswagen Beetle parked in front of a stop sign on a city street. The car is positioned towards the left side of the image, and the stop sign is located near the center of the scene. There are several other cars visible in the background, with one parked further to the left and another closer to the right side of the image. In addition to the cars, there are several trees scattered throughout the scene, adding a natural touch to the urban environment.\n",
      "there is a stop sign\n",
      "The man in the image is making a thumbs up gesture.\n",
      "The image depicts a group of people gathered in a dining area, with a man giving a thumbs up gesture while sitting at a table. There are several other people in the scene, some of whom are seated and others standing around the room.  In addition to the man giving the thumbs up, there are two other men present, one on the left side of the room and the other on the right side. A woman can also be seen standing towards the right side of the room. There are multiple chairs scattered throughout the dining area, providing seating options for the guests. Some of the chairs are closer to the man giving the thumbs up, while others are further away from him. Overall, the scene appears to be a casual gathering where people are socializing and enjoying each other's company.\n",
      "he's happy\n",
      "labrador retriever\n",
      "The image depicts a dimly lit living room with a large sliding glass door on the left side of the room. There is a dog lying on a dog bed in the center of the room, surrounded by various furniture items such as a couch, a chair, and a potted plant.  In addition to the dog bed, there is another dog bed located closer to the right side of the room. A clock can be seen hanging on the wall near the sliding glass door, adding a sense of time to the scene.\n",
      "provide dog bed\n",
      "The color of the elephant in the image is gray.\n",
      "The image depicts an elephant standing in a dirt area near a cement wall. The elephant is the main focus of the scene, and there are several other objects scattered around the area.  There are two tires visible in the scene, one close to the elephant and another further away from it. Additionally, there are several handprints on the wall, possibly left by the elephant or other visitors to the area. In the background, there is a building with a door, suggesting that this might be an enclosed space for the elephant.\n",
      "The potential concern for the baby elephant in this setting is that it may not have enough space to move around and engage in natural behaviors.\n",
      "sandwich and broccoli\n",
      "The image features a delicious-looking sandwich on an orange plate, accompanied by a bowl of broccoli and a fork. The sandwich appears to be a grilled chicken sandwich, while the broccoli is served as a side dish. The plate is placed on a dining table, adding to the overall dining experience.\n",
      "The individual's dietary choices are healthy and balanced.\n",
      "duck\n",
      "The image features a white duck standing on a cement sidewalk next to a grassy area. The duck appears to be preoccupied with something, possibly searching for food or exploring its surroundings. In the background, there is a body of water visible, possibly a pond or a lake.\n",
      "The duck may face challenges while walking along the paved road, such as uneven surfaces and potential hazards like potholes or debris.\n",
      "yes\n",
      "The image features a young boy riding a bicycle on a cement surface. He is wearing a helmet and appears to be enjoying his ride. There are multiple bicycles in the scene, including one in the foreground and others in the background. The boy's bicycle is positioned towards the left side of the image, while the other bicycles are scattered throughout the scene.\n",
      "he is wearing helmet\n",
      "There are three people visible in the image.\n",
      "The image depicts a group of three people, two men and one woman, posing for a photo while holding wine glasses. They are standing around a dining table, possibly at a wine tasting event. There are several bottles of wine scattered around the table, with one bottle being held by one of the people in the photo. In addition to the wine bottles, there are several other items on the table, such as a handbag, a cell phone, and a backpack. The atmosphere appears to be lively and festive, with the group enjoying their wine and each other's company.\n",
      "The reason behind this gathering might be a wine tasting event.\n",
      "clock\n",
      "The image depicts a city street scene with a clock tower standing in the middle of the sidewalk. There are several cars parked on the side of the street, and a bicycle can be seen near one of the parked cars. Additionally, there are several people walking along the sidewalk, some closer to the clock tower and others further away. A building is visible in the background, adding to the urban atmosphere of the scene.\n",
      "clock\n",
      "motorbike\n",
      "The image depicts a woman riding a motorcycle down a dirt road surrounded by trees. She is accompanied by two cows, one on each side of the motorcycle. There are several other people in the scene, including a man standing on the left side of the road and another man standing on the right side of the road. A truck can be seen parked on the left side of the road, while a car is parked on the right side of the road. Additionally, there is a handbag placed on the ground near the woman on the motorcycle.\n",
      "The woman on the motorcycle might face challenges in navigating through the narrow dirt road and avoiding obstacles, such as other vehicles, pedestrians, and animals.\n",
      "upside down\n",
      "The image features a young boy standing on top of a green skateboard, ready to perform a trick. He is wearing camouflage shorts and appears to be focused on the task at hand. There are several other skateboards visible in the scene, including one near the boy's left foot and another near the right side of the image. In addition to the skateboards, there is a car parked in the background, likely belonging to the boy's family or friends. Overall, the scene captures a fun and adventurous moment for the young boy as he prepares to showcase his skateboarding skills.\n",
      "he fell\n",
      "sun hats\n",
      "The image depicts two people sitting on a railing overlooking the water. One person is holding an umbrella, while the other holds a dog. There are several boats visible in the water, some closer to the shore and others further away. In addition to the boats, there is a truck parked on the right side of the image. The scene appears to be a relaxing moment by the water, with the people enjoying the view and the company of their furry friend.\n",
      "Protection from rain\n"
     ]
    }
   ],
   "source": [
    "from transformers import InstructBlipProcessor, InstructBlipForConditionalGeneration\n",
    "import torch\n",
    "from PIL import Image\n",
    "import requests\n",
    "import os\n",
    "from tqdm.auto import tqdm\n",
    "import jsonlines\n",
    "import json\n",
    "import argparse\n",
    "args = {\n",
    "    \"file_path\": \"../playground/data/coco2014_val_qa_eval/qa90_questions.jsonl\",\n",
    "    \"language\" : 'en',\n",
    "    \"img_dir\": \"../playground/data/eval/pope/val2014/COCO_val2014_\",\n",
    "    \"model_path\": \"Salesforce/instructblip-vicuna-7b\",\n",
    "    \"benchmark_name\": \"coco2014_val_qa_eval\",\n",
    "    \"conv_mode\": 'mistral',\n",
    "    \"num_beams\": 1,\n",
    "    \"max_length\": 1024,\n",
    "    \"min_length\": 1,\n",
    "    \"top_p\": 0.9,\n",
    "    \"repetition_penalty\": 1.5,\n",
    "    \"length_penalty\": 1.0,\n",
    "    \"temperature\": 1,\n",
    "\n",
    "}\n",
    "\n",
    "args = argparse.Namespace(**args)\n",
    "\n",
    "benchmark_name = 'coco2014_val_qa_eval'  # Benchmark name\n",
    "language = 'en'\n",
    "conv_mode = 'mistral'\n",
    "# save_mode_path = model_path.replace('/', '')\n",
    "output_dir = f'/data/MLP/cschoi/LLaVA/generation_data/generated_data/benchmark_data/[{args.model_path.replace(\"/\", \"-\")}30]_[{args.benchmark_name}]_[{args.language}].json'  # Output file path\n",
    "\n",
    "\n",
    "os.environ[\"CUDA_VISIBLE_DEVICES\"] = \"7\"\n",
    "\n",
    "model = InstructBlipForConditionalGeneration.from_pretrained(\"Salesforce/instructblip-vicuna-7b\")\n",
    "processor = InstructBlipProcessor.from_pretrained(\"Salesforce/instructblip-vicuna-7b\")\n",
    "device = \"cuda:7\" if torch.cuda.is_available() else \"cpu\"\n",
    "model.to(device)\n",
    "\n",
    "\n",
    "\n",
    "with jsonlines.open(args.file_path, 'r') as reader:\n",
    "    output_data = []  # Output data\n",
    "    # Iterate over each line in the file\n",
    "    for line in tqdm(reader):\n",
    "        # line is a dict of the json\n",
    "        img_path = args.img_dir+line['image']\n",
    "        image = Image.open(img_path).convert(\"RGB\")\n",
    "        prompt = line[\"text\"]+ ' Please answer in one sentence.'\n",
    "        inputs = processor(images=image, text=prompt, return_tensors=\"pt\").to(device)\n",
    "\n",
    "        outputs = model.generate(\n",
    "            **inputs,\n",
    "            do_sample=False,\n",
    "            num_beams=args.num_beams,\n",
    "            max_length=args.max_length,\n",
    "            min_length=args.min_length,\n",
    "            top_p=args.top_p,\n",
    "            repetition_penalty=args.repetition_penalty,\n",
    "            length_penalty=args.length_penalty,\n",
    "            temperature=args.temperature,\n",
    "        )\n",
    "\n",
    "        generated_text = processor.batch_decode(outputs, skip_special_tokens=True)[0].strip()\n",
    "        print(generated_text)\n",
    "        line['answer'] = ' '.join(generated_text.split()[:30])\n",
    "        line['model'] = args.model_path.replace(\"/\", \"-\")\n",
    "        output_data.append(line)  # Add the line to the output data\n",
    "\n",
    "# Write the output data to a JSON file\n",
    "with open(output_dir, 'w') as outfile:\n",
    "    json.dump(output_data, outfile, indent=4, ensure_ascii=False)"
   ]
  },
  {
   "cell_type": "markdown",
   "metadata": {},
   "source": [
    "# InstructBLIP 한국어"
   ]
  },
  {
   "cell_type": "code",
   "execution_count": 1,
   "metadata": {},
   "outputs": [
    {
     "name": "stderr",
     "output_type": "stream",
     "text": [
      "/data/MLP/cschoi/LLaVA/.venv/lib/python3.8/site-packages/setuptools/distutils_patch.py:25: UserWarning: Distutils was imported before Setuptools. This usage is discouraged and may exhibit undesirable behaviors or errors. Please use Setuptools' objects directly or at least import Setuptools first.\n",
      "  warnings.warn(\n"
     ]
    },
    {
     "data": {
      "application/vnd.jupyter.widget-view+json": {
       "model_id": "899503e69ef54f27b90b0a0a7bec97be",
       "version_major": 2,
       "version_minor": 0
      },
      "text/plain": [
       "Loading checkpoint shards:   0%|          | 0/4 [00:00<?, ?it/s]"
      ]
     },
     "metadata": {},
     "output_type": "display_data"
    },
    {
     "data": {
      "application/vnd.jupyter.widget-view+json": {
       "model_id": "53e406db1c3044faa792289b91af34a9",
       "version_major": 2,
       "version_minor": 0
      },
      "text/plain": [
       "  0%|          | 0/90 [00:00<?, ?it/s]"
      ]
     },
     "metadata": {},
     "output_type": "display_data"
    }
   ],
   "source": [
    "from transformers import InstructBlipProcessor, InstructBlipForConditionalGeneration\n",
    "import torch\n",
    "from PIL import Image\n",
    "import requests\n",
    "import os\n",
    "from tqdm.auto import tqdm\n",
    "import jsonlines\n",
    "import json\n",
    "import argparse\n",
    "args = {\n",
    "    \"file_path\": \"/data/MLP/cschoi/LLaVA/generation_data/generated_data/benchmark_data/long/[gpt-4-vision-preview]_[coco2014_val_qa_eval]_[ko].json\",\n",
    "    \"language\" : 'ko',\n",
    "    \"img_dir\": \"../playground/data/eval/pope/val2014/COCO_val2014_\",\n",
    "    \"model_path\": \"Salesforce/instructblip-vicuna-7b\",\n",
    "    \"benchmark_name\": \"coco2014_val_qa_eval\",\n",
    "    \"conv_mode\": 'mistral',\n",
    "    \"num_beams\": 1,\n",
    "    \"max_length\": 1024,\n",
    "    \"min_length\": 1,\n",
    "    \"top_p\": 0.9,\n",
    "    \"repetition_penalty\": 1.5,\n",
    "    \"length_penalty\": 1.0,\n",
    "    \"temperature\": 1,\n",
    "\n",
    "}\n",
    "\n",
    "args = argparse.Namespace(**args)\n",
    "\n",
    "model_path = 'Salesforce/instructblip-vicuna-7b'\n",
    "benchmark_name = 'coco2014_val_qa_eval'  # Benchmark name\n",
    "language = 'ko'\n",
    "conv_mode = 'mistral'\n",
    "# save_mode_path = model_path.replace('/', '')\n",
    "output_dir = f'/data/MLP/cschoi/LLaVA/generation_data/generated_data/benchmark_data/[{args.model_path.replace(\"/\", \"-\")}30]_[{args.benchmark_name}]_[{args.language}].json'  # Output file path\n",
    "\n",
    "\n",
    "os.environ[\"CUDA_VISIBLE_DEVICES\"] = \"0,1,2,3,4,5,6\"\n",
    "\n",
    "model = InstructBlipForConditionalGeneration.from_pretrained(\"Salesforce/instructblip-vicuna-7b\")\n",
    "processor = InstructBlipProcessor.from_pretrained(\"Salesforce/instructblip-vicuna-7b\")\n",
    "device = \"cuda\" if torch.cuda.is_available() else \"cpu\"\n",
    "model.to(device)\n",
    "\n",
    "\n",
    "\n",
    "with open(args.file_path, 'r') as reader:\n",
    "    output_data = []  # Output data\n",
    "    data = json.load(reader)  # Load the entire json file\n",
    "    # Iterate over each item in the data\n",
    "    for line in tqdm(data):\n",
    "        # line is a dict of the json\n",
    "        img_path = args.img_dir+line['image']\n",
    "        image = Image.open(img_path).convert(\"RGB\")\n",
    "        prompt = line[\"text\"]\n",
    "        inputs = processor(images=image, text=prompt, return_tensors=\"pt\").to(device)\n",
    "\n",
    "        outputs = model.generate(\n",
    "            **inputs,\n",
    "            do_sample=False,\n",
    "            num_beams=args.num_beams,\n",
    "            max_length=args.max_length,\n",
    "            min_length=args.min_length,\n",
    "            top_p=args.top_p,\n",
    "            repetition_penalty=args.repetition_penalty,\n",
    "            length_penalty=args.length_penalty,\n",
    "            temperature=args.temperature,\n",
    "        )\n",
    "\n",
    "        generated_text = processor.batch_decode(outputs, skip_special_tokens=True)[0].strip()\n",
    "        line['answer'] = ' '.join(generated_text.split()[:30])\n",
    "        line['model'] = args.model_path.replace(\"/\", \"-\")\n",
    "        output_data.append(line)  # Add the line to the output data\n",
    "\n",
    "# Write the output data to a JSON file\n",
    "with open(output_dir, 'w') as outfile:\n",
    "    json.dump(output_data, outfile, indent=4, ensure_ascii=False)"
   ]
  },
  {
   "cell_type": "markdown",
   "metadata": {},
   "source": [
    "# BLIP2 영어"
   ]
  },
  {
   "cell_type": "code",
   "execution_count": 1,
   "metadata": {},
   "outputs": [
    {
     "name": "stderr",
     "output_type": "stream",
     "text": [
      "/data/MLP/cschoi/LLaVA/.venv/lib/python3.8/site-packages/setuptools/distutils_patch.py:25: UserWarning: Distutils was imported before Setuptools. This usage is discouraged and may exhibit undesirable behaviors or errors. Please use Setuptools' objects directly or at least import Setuptools first.\n",
      "  warnings.warn(\n"
     ]
    },
    {
     "data": {
      "application/vnd.jupyter.widget-view+json": {
       "model_id": "b7cc8f9d72fd42adaa92e6f523afd57c",
       "version_major": 2,
       "version_minor": 0
      },
      "text/plain": [
       "preprocessor_config.json:   0%|          | 0.00/432 [00:00<?, ?B/s]"
      ]
     },
     "metadata": {},
     "output_type": "display_data"
    },
    {
     "data": {
      "application/vnd.jupyter.widget-view+json": {
       "model_id": "279e08215a814ca1848e7e88e979965b",
       "version_major": 2,
       "version_minor": 0
      },
      "text/plain": [
       "tokenizer_config.json:   0%|          | 0.00/904 [00:00<?, ?B/s]"
      ]
     },
     "metadata": {},
     "output_type": "display_data"
    },
    {
     "data": {
      "application/vnd.jupyter.widget-view+json": {
       "model_id": "dcaaa189a2024200a1c68e4e07afcb89",
       "version_major": 2,
       "version_minor": 0
      },
      "text/plain": [
       "vocab.json:   0%|          | 0.00/798k [00:00<?, ?B/s]"
      ]
     },
     "metadata": {},
     "output_type": "display_data"
    },
    {
     "data": {
      "application/vnd.jupyter.widget-view+json": {
       "model_id": "fb7581d4b368497db8fa7b1e08f95753",
       "version_major": 2,
       "version_minor": 0
      },
      "text/plain": [
       "merges.txt:   0%|          | 0.00/456k [00:00<?, ?B/s]"
      ]
     },
     "metadata": {},
     "output_type": "display_data"
    },
    {
     "data": {
      "application/vnd.jupyter.widget-view+json": {
       "model_id": "eb9578d42d8848ba82fe90b87ef69b2c",
       "version_major": 2,
       "version_minor": 0
      },
      "text/plain": [
       "tokenizer.json:   0%|          | 0.00/2.11M [00:00<?, ?B/s]"
      ]
     },
     "metadata": {},
     "output_type": "display_data"
    },
    {
     "data": {
      "application/vnd.jupyter.widget-view+json": {
       "model_id": "65fa77ab138c46529d2593cacb58f702",
       "version_major": 2,
       "version_minor": 0
      },
      "text/plain": [
       "special_tokens_map.json:   0%|          | 0.00/548 [00:00<?, ?B/s]"
      ]
     },
     "metadata": {},
     "output_type": "display_data"
    },
    {
     "data": {
      "application/vnd.jupyter.widget-view+json": {
       "model_id": "b11179e8fd794fef81e57d3010028df2",
       "version_major": 2,
       "version_minor": 0
      },
      "text/plain": [
       "config.json:   0%|          | 0.00/6.96k [00:00<?, ?B/s]"
      ]
     },
     "metadata": {},
     "output_type": "display_data"
    },
    {
     "data": {
      "application/vnd.jupyter.widget-view+json": {
       "model_id": "a5b536e80cc64f5d9372f6532ac38d7a",
       "version_major": 2,
       "version_minor": 0
      },
      "text/plain": [
       "pytorch_model.bin.index.json:   0%|          | 0.00/122k [00:00<?, ?B/s]"
      ]
     },
     "metadata": {},
     "output_type": "display_data"
    },
    {
     "data": {
      "application/vnd.jupyter.widget-view+json": {
       "model_id": "25bc760e5e0e439781aad1e4a82a2072",
       "version_major": 2,
       "version_minor": 0
      },
      "text/plain": [
       "Downloading shards:   0%|          | 0/2 [00:00<?, ?it/s]"
      ]
     },
     "metadata": {},
     "output_type": "display_data"
    },
    {
     "data": {
      "application/vnd.jupyter.widget-view+json": {
       "model_id": "a3ce7fe5f553458ab10d580f23d7dd37",
       "version_major": 2,
       "version_minor": 0
      },
      "text/plain": [
       "pytorch_model-00001-of-00002.bin:   0%|          | 0.00/10.0G [00:00<?, ?B/s]"
      ]
     },
     "metadata": {},
     "output_type": "display_data"
    },
    {
     "name": "stderr",
     "output_type": "stream",
     "text": [
      "/data/MLP/cschoi/LLaVA/.venv/lib/python3.8/site-packages/huggingface_hub/file_download.py:992: UserWarning: Not enough free disk space to download the file. The expected file size is: 5497.72 MB. The target location /data/hf_cache only has 2467.61 MB free disk space.\n",
      "  warnings.warn(\n",
      "/data/MLP/cschoi/LLaVA/.venv/lib/python3.8/site-packages/huggingface_hub/file_download.py:992: UserWarning: Not enough free disk space to download the file. The expected file size is: 5497.72 MB. The target location /data/hf_cache/models--Salesforce--blip2-opt-2.7b/blobs only has 2466.37 MB free disk space.\n",
      "  warnings.warn(\n"
     ]
    },
    {
     "data": {
      "application/vnd.jupyter.widget-view+json": {
       "model_id": "b300adae2fbc40d59734ec7ec6800d17",
       "version_major": 2,
       "version_minor": 0
      },
      "text/plain": [
       "pytorch_model-00002-of-00002.bin:   0%|          | 0.00/5.50G [00:00<?, ?B/s]"
      ]
     },
     "metadata": {},
     "output_type": "display_data"
    },
    {
     "data": {
      "application/vnd.jupyter.widget-view+json": {
       "model_id": "9404553427f748c6ae8ffa7f669b2d53",
       "version_major": 2,
       "version_minor": 0
      },
      "text/plain": [
       "Loading checkpoint shards:   0%|          | 0/2 [00:00<?, ?it/s]"
      ]
     },
     "metadata": {},
     "output_type": "display_data"
    },
    {
     "data": {
      "application/vnd.jupyter.widget-view+json": {
       "model_id": "0b8e93c999944e91b206bcf3fdd1cbbb",
       "version_major": 2,
       "version_minor": 0
      },
      "text/plain": [
       "0it [00:00, ?it/s]"
      ]
     },
     "metadata": {},
     "output_type": "display_data"
    },
    {
     "name": "stdout",
     "output_type": "stream",
     "text": [
      "The color of the two suitcases in the image is black\n",
      "The suitcases are on display in a store\n",
      "The suitcases are valuable because they are old.\n",
      "A plate of food, a glass of water, and a knife and fork\n",
      "Describe the following image. Answer: Describe the following image. Answer: Describe the following image. Answer: Describe the following image. Answer: Describe the following image. Answer: Describe the following image. Answer: Describe the following image. Answer: Describe the following image. Answer: Describe the following image. Answer: Describe the following image. Answer: Describe the following image. Answer: Describe the following image. Answer: Describe the following image. Answer: Describe the following image. Answer: Describe the following image. Answer: Describe the following image. Answer: Describe the following image. Answer: Describe the following image. Answer: Describe the following image. Answer: Describe the following image. Answer: Describe the following image. Answer: Describe the following image. Answer: Describe the following image. Answer: Describe the following image. Answer: Describe the following image. Answer: Describe the following image. Answer: Describe the following image. Answer: Describe the following image. Answer: Describe the following image. Answer: Describe the following image. Answer: Describe the following image. Answer: Describe the following image. Answer: Describe the following image. Answer: Describe the following image. Answer: Describe the following image. Answer: Describe the following image. Answer: Describe the following image. Answer: Describe the following image. Answer: Describe the following image. Answer: Describe the following image. Answer: Describe the following image. Answer: Describe the following image. Answer: Describe the following image. Answer: Describe the following image. Answer: Describe the following image. Answer: Describe the following image. Answer: Describe the following image. Answer: Describe the following image. Answer: Describe the following image. Answer: Describe the following image. Answer: Describe the following image. Answer: Describe the following image. Answer: Describe the following image. Answer: Describe the following image. Answer: Describe the following image. Answer: Describe the following image. Answer: Describe the following image. Answer: Describe the following image. Answer: Describe the following image. Answer: Describe the following image. Answer: Describe the following image. Answer: Describe the following image. Answer: Describe the following image. Answer: Describe the following image. Answer: Describe the following image. Answer: Describe the following image. Answer: Describe the following image. Answer: Describe the following image. Answer: Describe the following image. Answer: Describe the following image. Answer: Describe the following image. Answer: Describe the following image. Answer: Describe the following image. Answer: Describe the following image. Answer: Describe the following image. Answer: Describe the following image. Answer: Describe the following image. Answer: Describe the following image. Answer: Describe the following image. Answer: Describe the following image. Answer: Describe the following image. Answer: Describe the following image. Answer: Describe the following image. Answer: Describe the following image. Answer: Describe the following image. Answer: Describe the following image. Answer: Describe the following image. Answer: Describe the following image. Answer: Describe the following image. Answer: Describe the following image. Answer: Describe the following image. Answer: Describe the following image. Answer: Describe the following image. Answer: Describe the following image. Answer: Describe the following image. Answer: Describe the following image. Answer: Describe the following image. Answer: Describe the following image. Answer: Describe the following image. Answer: Describe the following image. Answer: Describe the following image. Answer: Describe the following image. Answer: the following image. Answer: the following image. Answer: the following image. Answer: the following image. Answer: the following image. Answer: the following image. Answer: the following image. Answer: the following image. Answer: the following image. Answer: the following image. Answer: the following image. Answer: the following image. Answer: the following image. Answer: the following image. Answer: the following image. Answer: the following image. Answer: the following image. Answer: the following image. Answer: the following image. Answer: the following image. Answer: the following image. Answer: the following image. Answer: the following image. Answer: the following image. Answer: the following image. Answer: the following image. Answer: the following image. Answer: the following image. Answer: the following image. Answer: the following image. Answer: the following image. Answer: the following image. Answer: the following image. Answer: the following image. Answer: the following image\n",
      "A dinner party.\n",
      "The cat\n",
      "A cat is sitting on a desk next to a laptop computer\n",
      "The cat is curious about the laptop\n",
      "The dog is black\n",
      "Describe the following image. Please answer in one sentence. Answer: Describe the following image. Please answer in one sentence. Answer: Describe the following image. Please answer in one sentence. Answer: Describe the following image. Please answer in one sentence. Answer: Describe the following image. Please answer in one sentence. Answer: Describe the following image. Please answer in one sentence. Answer: Describe the following image. Please answer in one sentence. Answer: Describe the following image. Please answer in one sentence. Answer: Describe the following image. Please answer in one sentence. Answer: Describe the following image. Please answer in one sentence. Answer: Describe the following image. Please answer in one sentence. Answer: Describe the following image. Please answer in one sentence. Answer: Describe the following image. Please answer in one sentence. Answer: Describe the following image. Please answer in one sentence. Answer: Describe the following image. Please answer in one sentence. Answer: Describe the following image. Please answer in one sentence. Answer: Describe the following image. Please answer in one sentence. Answer: Describe the following image. Please answer in one sentence. Answer: Describe the following image. Please answer in one sentence. Answer: Describe the following image. Please answer in one sentence. Answer: Describe the following image. Please answer in one sentence. Answer: Describe the following image. Please answer in one sentence. Answer: Describe the following image. Please answer in one sentence. Answer: Describe the following image. Please answer in one sentence. Answer: Describe the following image. Please answer in one sentence. Answer: Describe the following image. Please answer in one sentence. Answer: Describe the following image. Please answer in one sentence. Answer: Describe the following image. Please answer in one sentence. Answer: Describe the following image. Please answer in one sentence. Answer: Describe the following image. Please answer in one sentence. Answer: Describe the following image. Please answer in one sentence. Answer: Describe the following image. Please answer in one sentence. Answer: Describe the following image. Please answer in one sentence. Answer: Describe the following image. Please answer in one sentence. Answer: Describe the following image. Please answer in one sentence. Answer: Describe the following image. Please answer in one sentence. Answer: Describe the following image. Please answer in one sentence. Answer: Describe the following image. Please answer in one sentence. Answer: Describe the following image. Please answer in one sentence. Answer: Describe the following image. Please answer in one sentence. Answer: Describe the following image. Please answer in one sentence. Answer: Describe the following image. Please answer in one sentence. Answer: Describe the following image. Please answer in one sentence. Answer: Describe the following image. Please answer in one sentence. Answer: Describe the following image. Please answer in one sentence. Answer: Describe the following image. Please answer in one sentence. Answer: Describe the following image. Please answer in one sentence. Answer: Describe the following image. Please answer in one sentence. Answer: Describe the following image. Please answer in one sentence. Answer: Describe the following image. Please answer in one sentence. Answer: Describe the following image. Please answer in one sentence. Answer: Describe the following image. Please answer in one sentence. Answer: Describe the following image. Please answer in one sentence. Answer: Describe the following image. Please answer in one sentence. Answer: Describe the following image. Please answer in one sentence. Answer: Describe the following image. Please answer in one sentence. Answer: Describe the following image. Please answer in one sentence. Answer: Describe the following image. Please answer in one sentence. Answer: Describe the following image. Please answer in one sentence. Answer: Describe the following image. Please answer in one sentence. Answer: Describe the following image. Please answer in one sentence. Answer: Describe the following image. Please answer in one sentence. Answer: Describe the following image. Please answer in one sentence. Answer: Describe the following image. Please answer in one sentence. Answer: Describe the following image. Please answer in one sentence. Answer: Describe the following image. Please answer in one sentence. Answer: Describe the following image. Please answer in one sentence. Answer: Describe the following image. Please answer in one sentence. Answer: Describe the following image. Please answer in one sentence. Answer: Describe the following image. Please answer in one sentence. Answer: Describe the following image. Please answer in one sentence. Answer: Describe the following image. Please answer in one sentence. Answer: Describe the following image. Please answer in one sentence. Answer: Desc\n",
      "The dog has chosen to lay down on the floor in this location.\n",
      "In the lobby\n",
      "The following image is of a luggage cart in a hotel lobby\n",
      "Handling luggage in the lobby is a challenge for the staff\n",
      "The body of water seen in the image is a river\n",
      "This is a view of the columbia river gorge\n",
      "The train is traveling in such a scenic route because the train is traveling in such a scenic route.\n",
      "An umbrella on a beach\n",
      "The sky is blue, the beach is white, the water is blue, the sand is white, and the sun is shining.\n",
      "The umbrella is used to shade the beach from the sun.\n",
      "Under construction\n",
      "This is a photo of the interior of a house under construction\n",
      "The house construction in its current state may be a potential obstacle for the house construction in its current state\n",
      "There are three pizzas in the image\n",
      "The image shows three pizzas, one of which has cheese, one of which has pepperoni, and one of which has chicken on it.\n",
      "There are no possible challenges one might face when dividing these pizzas equitably among a group of people. Please answer in one sentence. Answer: There are no possible challenges one might face when dividing these pizzas equitably among a group of people. Please answer in one sentence. Answer: There are no possible challenges one might face when dividing these pizzas equitably among a group of people. Please answer in one sentence. Answer: There are no possible challenges one might face when dividing these pizzas equitably among a group of people. Please answer in one sentence. Answer: There are no possible challenges one might face when dividing these pizzas equitably among a group of people. Please answer in one sentence. Answer: There are no possible challenges one might face when dividing these pizzas equitably among a group of people. Please answer in one sentence. Answer: There are no possible challenges one might face when dividing these pizzas equitably among a group of people. Please answer in one sentence. Answer: There are no possible challenges one might face when dividing these pizzas equitably among a group of people. Please answer in one sentence. Answer: There are no possible challenges one might face when dividing these pizzas equitably among a group of people. Please answer in one sentence. Answer: There are no possible challenges one might face when dividing these pizzas equitably among a group of people. Please answer in one sentence. Answer: There are no possible challenges one might face when dividing these pizzas equitably among a group of people. Please answer in one sentence. Answer: There are no possible challenges one might face when dividing these pizzas equitably among a group of people. Please answer in one sentence. Answer: There are no possible challenges one might face when dividing these pizzas equitably among a group of people. Please answer in one sentence. Answer: There are no possible challenges one might face when dividing these pizzas equitably among a group of people. Please answer in one sentence. Answer: There are no possible challenges one might face when dividing these pizzas equitably among a group of people. Please answer in one sentence. Answer: There are no possible challenges one might face when dividing these pizzas equitably among a group of people. Please answer in one sentence. Answer: There are no possible challenges one might face when dividing these pizzas equitably among a group of people. Please answer in one sentence. Answer: There are no possible challenges one might face when dividing these pizzas equitably among a group of people. Please answer in one sentence. Answer: There are no possible challenges one might face when dividing these pizzas equitably among a group of people. Please answer in one sentence. Answer: There are no possible challenges one might face when dividing these pizzas equitably among a group of people. Please answer in one sentence. Answer: There are no possible challenges one might face when dividing these pizzas equitably among a group of people. Please answer in one sentence. Answer: There are no possible challenges one might face when dividing these pizzas equitably among a group of people. Answer: There are no possible challenges one might face when dividing these pizzas equitably among a group of people. Answer: There are no possible challenges one might face when dividing these pizzas equitably among a group of people. Answer: There are no possible challenges one might face when dividing these pizzas equitably among a group of people. Answer: There are no possible challenges one might face when dividing these pizzas equitably among a group of people. Answer: There are no possible challenges one might face when dividing these pizzas equitably among a group of people. Answer: There are no possible challenges one might face when dividing these pizzas equitably among a group of people. Answer: There are no possible challenges one might face when dividing these pizzas equitably among a group of people. Answer: There are no possible challenges one might face when dividing these pizzas equitably among a group of people. Answer: There are no possible challenges one might face when dividing these pizzas equitably among a group of people. Answer: There are no possible challenges one might face when dividing these pizzas equitably among a group of people. Answer: There are no possible challenges one might face when dividing these pizzas equitably among a group of people. Answer: There are no possible challenges one might face when dividing these pizzas equitably among a group of people. Answer: There are no possible challenges one might face when dividing these pizzas equitably among a group of people. Answer: There are no possible challenges one might face when dividing these pizzas equitably among a group of people. Answer: There are no possible challenges one might face when dividing these pizzas equitably among a group of people. Answer: There are no possible challenges one might face when dividing these pizzas equitably among a group of people. Answer: There are no possible challenges one might face when dividing these pizzas equitably among a group of people. Answer:\n",
      "Three doughnuts are in the box.\n",
      "The donuts are in a box\n",
      "All of the doughnuts in this box are unique in some way, shape, or form.\n",
      "The man is wearing a suit.\n",
      "The main features of this image are a man wearing a grey sweatshirt, a man wearing a grey sweatshirt, a man wearing a grey sweatshirt, a man wearing a grey sweatshirt, a man wearing a grey sweatshirt, a man wearing a grey sweatshirt, a man wearing a grey sweatshirt, a man wearing a grey sweatshirt, a man wearing a grey sweatshirt, a man wearing a grey sweatshirt, a man wearing a grey sweatshirt, a man wearing a grey sweatshirt, a man wearing a grey sweatshirt, a man wearing a grey sweatshirt, a man wearing a grey sweatshirt, a man wearing a grey sweatshirt, a man wearing a grey sweatshirt, a man wearing a grey sweatshirt, a man wearing a grey sweatshirt, a man wearing a grey sweatshirt, a man wearing a grey sweatshirt, a man wearing a grey sweatshirt, a man wearing a grey sweatshirt, a man wearing a grey sweatshirt, a man wearing a grey sweatshirt, a man wearing a grey sweatshirt, a man wearing a grey sweatshirt, a man wearing a grey sweatshirt, a man wearing a grey sweatshirt, a man wearing a grey sweatshirt, a man wearing a grey sweatshirt, a man wearing a grey sweatshirt, a man wearing a grey sweatshirt, a man wearing a grey sweatshirt, a man wearing a grey sweatshirt, a man wearing a grey sweatshirt, a man wearing a grey sweatshirt, a man wearing a grey sweatshirt, a man wearing a grey sweatshirt, a man wearing a grey sweatshirt, a man wearing a grey sweatshirt, a man wearing a grey sweatshirt, a man wearing a grey sweatshirt, a man wearing a grey sweatshirt, a man wearing a grey sweatshirt, a man wearing a grey sweatshirt, a man wearing a grey sweatshirt, a man wearing a grey sweatshirt, a man wearing a grey sweatshirt, a man wearing a grey sweatshirt, a man wearing a grey sweatshirt, a man wearing a grey sweatshirt, a man wearing a grey sweatshirt, a man wearing a grey sweatshirt, a man wearing a grey sweatshirt, a man wearing a grey sweatshirt, a man wearing a grey sweatshirt, a man wearing a grey sweatshirt, a man wearing a grey sweatshirt, a man wearing a grey sweatshirt, a man wearing a grey sweatshirt, a man wearing a grey sweatshirt, a man wearing a grey sweatshirt, a man wearing a grey sweatshirt, a man wearing a grey sweatshirt, a man wearing a grey sweatshirt, a man wearing a grey sweatshirt, a man wearing a grey sweatshirt, a man wearing a grey sweatshirt, a man wearing a grey sweatshirt, a man wearing a grey sweatshirt, a man wearing a grey sweatshirt, a man wearing a grey sweatshirt, a man wearing a grey sweatshirt, a man wearing a grey sweatshirt, a man wearing a grey sweatshirt, a man wearing a grey sweatshirt, a man wearing a grey sweatshirt, a man wearing a grey sweatshirt, a man wearing a grey sweatshirt, a man wearing a grey sweatshirt, a man wearing a grey sweatshirt, a man wearing a grey sweatshirt, a man wearing a grey sweatshirt, a man wearing a grey sweatshirt, a man wearing a grey sweatshirt, a man wearing a grey sweatshirt, a man wearing a grey sweatshirt, a man wearing a grey sweatshirt, a man wearing a grey sweatshirt, a man wearing a grey sweatshirt, a man wearing a grey sweatshirt, a man wearing a grey sweatshirt, a man wearing a grey sweatshirt, a man wearing a grey sweatshirt, a man wearing a grey sweatshirt, a man wearing a grey sweatshirt, a man wearing a grey sweatshirt, a man wearing a grey sweatshirt, a man wearing a grey sweatshirt, a man wearing a grey sweatshirt, a man wearing a grey sweatshirt, a man wearing a grey sweatshirt, a man wearing a grey sweatshirt, a man wearing a grey sweatshirt, a man wearing a grey sweatshirt, a man wearing a grey sweatshirt, a man wearing a grey sweatshirt, a man wearing a grey sweatshirt, a man wearing a grey sweatshirt, a man wearing a grey sweatshirt, a man wearing a grey sweatshirt, a man wearing a grey sweatshirt, a man wearing a grey sweatshirt, a man wearing a grey sweatshirt, a man wearing a grey sweatshirt, a man wearing a grey sweatshirt, a man wearing a grey sweatshirt, a man wearing a grey sweatshirt, a man wearing a grey sweatshirt, a man wearing a grey sweatshirt, a man wearing a grey sweatshirt, a man wearing a grey sweatshirt, a man wearing a grey sweatshirt, a man wearing a grey sweatshirt, a man wearing a grey sweatshirt, a man wearing a grey sweatshirt,\n",
      "The man is holding the clothes on hangers so he can put them in his suitcase.\n",
      "Three giraffes are depicted in the image\n",
      "The giraffes are eating leaves from a tree\n",
      "The giraffes are gathering near the same tree because they like the taste of the leaves\n",
      "The head of the giraffe\n",
      "A giraffe\n",
      "The giraffe is in a zoo\n",
      "A tiger mask, a chair, and a tuk tuk are included in the art installation.\n",
      "The image is of a man and a woman sitting on a bench in the middle of a busy street\n",
      "The art installation encourages interaction among people\n",
      "The main focus of the image is the car parked on the side of the road\n",
      "The car is parked on the side of the street\n",
      "The car is parked on the side of the road because it has a flat tire.\n",
      "He has a toothbrush in his mouth.\n",
      "An old man has a toothbrush in his mouth\n",
      "The message is: \"I'm old, and I don't know how to brush my teeth.\"\n",
      "Two airplanes are visible in the image\n",
      "A plane is taking off from an airport\n",
      "None.\n",
      "The cat is sleeping on the red couch\n",
      "A cat is curled up on a red couch\n",
      "The cat chose this location for sleep because it was comfortable.\n",
      "a volkswagen beetle\n",
      "A car is parked next to a stop sign\n",
      "The traffic situation in the area is...\n",
      "He is giving a thumbs up.\n",
      "A group of people sitting at a table\n",
      "The man is on the phone.\n",
      "He is a pit bull terrier\n",
      "The key elements in this picture are the sun, the blinds, and the dog.\n",
      "The dog's owner should make the dog feel comfortable in the room.\n",
      "gray.\n",
      "I think the elephant is trying to figure out how to get out of his enclosure\n",
      "The baby elephant could be a potential concern for the baby elephant in this setting? Please answer in one sentence. Answer: The baby elephant could be a potential concern for the baby elephant in this setting? Please answer in one sentence. Answer: The baby elephant could be a potential concern for the baby elephant in this setting? Please answer in one sentence. Answer: The baby elephant could be a potential concern for the baby elephant in this setting? Please answer in one sentence. Answer: The baby elephant could be a potential concern for the baby elephant in this setting? Please answer in one sentence. Answer: The baby elephant could be a potential concern for the baby elephant in this setting? Please answer in one sentence. Answer: The baby elephant could be a potential concern for the baby elephant in this setting? Please answer in one sentence. Answer: The baby elephant could be a potential concern for the baby elephant in this setting? Please answer in one sentence. Answer: The baby elephant could be a potential concern for the baby elephant in this setting? Please answer in one sentence. Answer: The baby elephant could be a potential concern for the baby elephant in this setting? Please answer in one sentence. Answer: The baby elephant could be a potential concern for the baby elephant in this setting? Please answer in one sentence. Answer: The baby elephant could be a potential concern for the baby elephant in this setting? Please answer in one sentence. Answer: The baby elephant could be a potential concern for the baby elephant in this setting? Please answer in one sentence. Answer: The baby elephant could be a potential concern for the baby elephant in this setting? Please answer in one sentence. Answer: The baby elephant could be a potential concern for the baby elephant in this setting? Please answer in one sentence. Answer: The baby elephant could be a potential concern for the baby elephant in this setting? Please answer in one sentence. Answer: The baby elephant could be a potential concern for the baby elephant in this setting? Please answer in one sentence. Answer: The baby elephant could be a potential concern for the baby elephant in this setting? Please answer in one sentence. Answer: The baby elephant could be a potential concern for the baby elephant in this setting? Please answer in one sentence. Answer: The baby elephant could be a potential concern for the baby elephant in this setting? Please answer in one sentence. Answer: The baby elephant could be a potential concern for the baby elephant in this setting? Please answer in one sentence. Answer: The baby elephant could be a potential concern for the baby elephant in this setting? Please answer in one sentence. Answer: The baby elephant could be a potential concern for the baby elephant in this setting? Please answer in one sentence. Answer: The baby elephant could be a potential concern for the baby elephant in this setting? Please answer in one sentence. Answer: The baby elephant could be a potential concern for the baby elephant in this setting? Please answer in one sentence. Answer: The baby elephant could be a potential concern for the baby elephant in this setting? Please answer in one sentence. Answer: The baby elephant could be a potential concern for the baby elephant in this setting? Please answer in one sentence. Answer: The baby elephant could be a potential concern for the baby elephant in this setting? Please answer in one sentence. Answer: The baby elephant could be a potential concern for the baby elephant in this setting? Please answer in one sentence. Answer: The baby elephant could be a potential concern for the baby elephant in this setting? Please answer in one sentence. Answer: The baby elephant could be a potential concern for the baby elephant in this setting? Please answer in one sentence. Answer: The baby elephant could be a potential concern for the baby elephant in this setting? Please answer in one sentence. Answer: The baby elephant could be a potential concern for the baby elephant in this setting? Please answer in one sentence. Answer: The baby elephant could be a potential concern for the baby elephant in this setting? Please answer in one sentence. Answer: The baby elephant could be a potential concern for the baby elephant in this setting? Please answer in one sentence. Answer: The baby elephant could be a potential concern for the baby elephant in this setting? Please answer in one sentence. Answer: The baby elephant could be a potential concern for the baby elephant in this setting? Please answer in one sentence. Answer: The baby elephant could be a potential concern for the baby elephant in this setting? Please answer in one sentence. Answer: The baby elephant could be a potential concern for the baby elephant in this setting? Please answer in one sentence. Answer: The baby elephant could be a potential concern for the baby elephant in this setting? Please answer in one sentence. Answer: The baby elephant could be a potential concern for the baby elephant in this setting? Please answer in one sentence. Answer: The baby elephant could be a potential concern for the baby elephant in this setting? Please answer in one sentence. Answer: The baby elephant could be a potential concern for the baby elephant in this setting\n",
      "Broccoli and a sandwich\n",
      "A sandwich, broccoli, and a fork\n",
      "A sandwich and a side of broccoli\n",
      "A goose\n",
      "The duck is looking for food\n",
      "The duck faces challenges while walking along the paved road. Please answer in one sentence. Answer: The duck faces challenges while walking along the paved road. Please answer in one sentence. Answer: The duck faces challenges while walking along the paved road. Please answer in one sentence. Answer: The duck faces challenges while walking along the paved road. Please answer in one sentence. Answer: The duck faces challenges while walking along the paved road. Please answer in one sentence. Answer: The duck faces challenges while walking along the paved road. Please answer in one sentence. Answer: The duck faces challenges while walking along the paved road. Please answer in one sentence. Answer: The duck faces challenges while walking along the paved road. Please answer in one sentence. Answer: The duck faces challenges while walking along the paved road. Please answer in one sentence. Answer: The duck faces challenges while walking along the paved road. Please answer in one sentence. Answer: The duck faces challenges while walking along the paved road. Please answer in one sentence. Answer: The duck faces challenges while walking along the paved road. Please answer in one sentence. Answer: The duck faces challenges while walking along the paved road. Please answer in one sentence. Answer: The duck faces challenges while walking along the paved road. Please answer in one sentence. Answer: The duck faces challenges while walking along the paved road. Please answer in one sentence. Answer: The duck faces challenges while walking along the paved road. Please answer in one sentence. Answer: The duck faces challenges while walking along the paved road. Please answer in one sentence. Answer: The duck faces challenges while walking along the paved road. Please answer in one sentence. Answer: The duck faces challenges while walking along the paved road. Please answer in one sentence. Answer: The duck faces challenges while walking along the paved road. Please answer in one sentence. Answer: The duck faces challenges while walking along the paved road. Please answer in one sentence. Answer: The duck faces challenges while walking along the paved road. Please answer in one sentence. Answer: The duck faces challenges while walking along the paved road. Please answer in one sentence. Answer: The duck faces challenges while walking along the paved road. Please answer in one sentence. Answer: The duck faces challenges while walking along the paved road. Please answer in one sentence. Answer: The duck faces challenges while walking along the paved road. Please answer in one sentence. Answer: The duck faces challenges while walking along the paved road. Please answer in one sentence. Answer: The duck faces challenges while walking along the paved road. Please answer in one sentence. Answer: The duck faces challenges while walking along the paved road. Please answer in one sentence. Answer: The duck faces challenges while walking along the paved road. Please answer in one sentence. Answer: The duck faces challenges while walking along the paved road. Please answer in one sentence. Answer: The duck faces challenges while walking along the paved road. Please answer in one sentence. Answer: The duck faces challenges while walking along the paved road. Please answer in one sentence. Answer: The duck faces challenges while walking along the paved road. Please answer in one sentence. Answer: The duck faces challenges while walking along the paved road. Please answer in one sentence. Answer: The duck faces challenges while walking along the paved road. Please answer in one sentence. Answer: The duck faces challenges while walking along the paved road. Please answer in one sentence. Answer: The duck faces challenges while walking along the paved road. Please answer in one sentence. Answer: The duck faces challenges while walking along the paved road. Please answer in one sentence. Answer: The duck faces challenges while walking along the paved road. Please answer in one sentence. Answer: The duck faces challenges while walking along the paved road. Please answer in one sentence. Answer: The duck faces challenges while walking along the paved road. Please answer in one sentence. Answer: The duck faces challenges while walking along the paved road. Please answer in one sentence. Answer: The duck faces challenges while walking along the paved road. Please answer in one sentence. Answer: The duck faces challenges while walking along the paved road. Please answer in one sentence. Answer: The duck faces challenges while walking along the paved road. Please answer in one sentence. Answer: The duck faces challenges while walking along the paved road. Please answer in one sentence. Answer: The duck faces challenges while walking along the paved road. Please answer in one sentence. Answer: The duck faces challenges while walking along the paved road. Please answer in one sentence. Answer: The duck faces challenges while walking along the paved road. Please answer in one sentence. Answer: The duck faces challenges while walking along the paved road. Please answer in one sentence. Answer: The duck faces challenges while walking along the paved road. Answer: The duck faces challenges while walking along the paved road. Answer: The duck faces challenges while walking along the paved road. Answer: The duck faces challenges while walking along the paved road. Answer: The duck\n",
      "Yes, he is wearing a helmet. Answer: No, he is not wearing any safety gear while riding his bike.\n",
      "The boy is riding a bike\n",
      "The little boy's precaution is noteworthy because he is riding a bike without a helmet.\n",
      "Three people are visible in the image\n",
      "People are having a good time at a wine tasting\n",
      "The reason behind this gathering is to have a good time.\n",
      "A clock\n",
      "Describe the following image. Please answer in one sentence. Answer: Describe the following image. Please answer in one sentence. Answer: Describe the following image. Please answer in one sentence. Answer: Describe the following image. Please answer in one sentence. Answer: Describe the following image. Please answer in one sentence. Answer: Describe the following image. Please answer in one sentence. Answer: Describe the following image. Please answer in one sentence. Answer: Describe the following image. Please answer in one sentence. Answer: Describe the following image. Please answer in one sentence. Answer: Describe the following image. Please answer in one sentence. Answer: Describe the following image. Please answer in one sentence. Answer: Describe the following image. Please answer in one sentence. Answer: Describe the following image. Please answer in one sentence. Answer: Describe the following image. Please answer in one sentence. Answer: Describe the following image. Please answer in one sentence. Answer: Describe the following image. Please answer in one sentence. Answer: Describe the following image. Please answer in one sentence. Answer: Describe the following image. Please answer in one sentence. Answer: Describe the following image. Please answer in one sentence. Answer: Describe the following image. Please answer in one sentence. Answer: Describe the following image. Please answer in one sentence. Answer: Describe the following image. Please answer in one sentence. Answer: Describe the following image. Please answer in one sentence. Answer: Describe the following image. Please answer in one sentence. Answer: Describe the following image. Please answer in one sentence. Answer: Describe the following image. Please answer in one sentence. Answer: Describe the following image. Please answer in one sentence. Answer: Describe the following image. Please answer in one sentence. Answer: Describe the following image. Please answer in one sentence. Answer: Describe the following image. Please answer in one sentence. Answer: Describe the following image. Please answer in one sentence. Answer: Describe the following image. Please answer in one sentence. Answer: Describe the following image. Please answer in one sentence. Answer: Describe the following image. Please answer in one sentence. Answer: Describe the following image. Please answer in one sentence. Answer: Describe the following image. Please answer in one sentence. Answer: Describe the following image. Please answer in one sentence. Answer: Describe the following image. Please answer in one sentence. Answer: Describe the following image. Please answer in one sentence. Answer: Describe the following image. Please answer in one sentence. Answer: Describe the following image. Please answer in one sentence. Answer: Describe the following image. Please answer in one sentence. Answer: Describe the following image. Please answer in one sentence. Answer: Describe the following image. Please answer in one sentence. Answer: Describe the following image. Please answer in one sentence. Answer: Describe the following image. Please answer in one sentence. Answer: Describe the following image. Please answer in one sentence. Answer: Describe the following image. Please answer in one sentence. Answer: Describe the following image. Please answer in one sentence. Answer: Describe the following image. Please answer in one sentence. Answer: Describe the following image. Please answer in one sentence. Answer: Describe the following image. Please answer in one sentence. Answer: Describe the following image. Please answer in one sentence. Answer: Describe the following image. Please answer in one sentence. Answer: Describe the following image. Please answer in one sentence. Answer: Describe the following image. Please answer in one sentence. Answer: Describe the following image. Please answer in one sentence. Answer: Describe the following image. Please answer in one sentence. Answer: Describe the following image. Please answer in one sentence. Answer: Describe the following image. Please answer in one sentence. Answer: Describe the following image. Please answer in one sentence. Answer: Describe the following image. Please answer in one sentence. Answer: Describe the following image. Please answer in one sentence. Answer: Describe the following image. Please answer in one sentence. Answer: Describe the following image. Please answer in one sentence. Answer: Describe the following image. Please answer in one sentence. Answer: Describe the following image. Answer: Describe the following image. Please answer in one sentence\n",
      "The clock tells you the time and the sidewalk leads you in the direction you want to go.\n",
      "He is riding a motorbike\n",
      "A man and a woman are walking down a dirt road. The man is on a motorcycle and the woman is on a scooter. A cow is walking in front of them.\n",
      "The woman on the motorcycle faces challenges in this situation. Please answer in one sentence. Answer: The woman on the motorcycle faces challenges in this situation. Please answer in one sentence. Answer: The woman on the motorcycle faces challenges in this situation. Please answer in one sentence. Question: What challenges might the woman on the motorcycle face in this situation? Please answer in one sentence. Answer: The woman on the motorcycle faces challenges in this situation. Please answer in one sentence. Question: What challenges might the woman on the motorcycle face in this situation? Please answer in one sentence. Answer: The woman on the motorcycle faces challenges in this situation. Please answer in one sentence. Question: What challenges might the woman on the motorcycle face in this situation? Please answer in one sentence. Answer: The woman on the motorcycle faces challenges in this situation. Please answer in one sentence. Question: What challenges might the woman on the motorcycle face in this situation? Please answer in one sentence. Answer: The woman on the motorcycle faces challenges in this situation. Please answer in one sentence. Question: What challenges might the woman on the motorcycle face in this situation? Please answer in one sentence. Answer: The woman on the motorcycle faces challenges in this situation. Please answer in one sentence. Question: What challenges might the woman on the motorcycle face in this situation? Please answer in one sentence. Answer: The woman on the motorcycle faces challenges in this situation. Please answer in one sentence. Question: What challenges might the woman on the motorcycle face in this situation? Please answer in one sentence. Answer: The woman on the motorcycle faces challenges in this situation. Please answer in one sentence. Question: What challenges might the woman on the motorcycle face in this situation? Please answer in one sentence. Answer: The woman on the motorcycle faces challenges in this situation. Please answer in one sentence. Question: What challenges might the woman on the motorcycle face in this situation? Please answer in one sentence. Answer: The woman on the motorcycle faces challenges in this situation. Please answer in one sentence. Question: What challenges might the woman on the motorcycle face in this situation? Please answer in one sentence. Answer: The woman on the motorcycle faces challenges in this situation. Please answer in one sentence. Question: What challenges might the woman on the motorcycle face in this situation? Please answer in one sentence. Answer: The woman on the motorcycle faces challenges in this situation. Please answer in one sentence. Question: What challenges might the woman on the motorcycle face in this situation? Please answer in one sentence. Answer: The woman on the motorcycle faces challenges in this situation. Please answer in one sentence. Question: What challenges might the woman on the motorcycle face in this situation? Please answer in one sentence. Answer: The woman on the motorcycle faces challenges in this situation. Please answer in one sentence. Question: What challenges might the woman on the motorcycle face in this situation? Please answer in one sentence. Answer: The woman on the motorcycle faces challenges in this situation. Please answer in one sentence. Question: What challenges might the woman on the motorcycle face in this situation? Please answer in one sentence. Answer: The woman on the motorcycle faces challenges in this situation. Please answer in one sentence. Question: What challenges might the woman on the motorcycle face in this situation? Please answer in one sentence. Answer: The woman on the motorcycle faces challenges in this situation. Answer: The woman on the motorcycle faces challenges in this situation. Please answer in one sentence. Question: What challenges might the woman on the motorcycle face in this situation? Please answer in one sentence. Answer: The woman on the motorcycle faces challenges in this situation. Please answer in one sentence. Question: What challenges might the woman on the motorcycle face in this situation? Please answer in one sentence. Answer: The woman on the motorcycle faces challenges in this situation. Please answer in one sentence. Question: What challenges might the woman on the motorcycle face in this situation? Please answer in one sentence. Answer: The woman on the motorcycle faces challenges in this situation. Please answer in one sentence. Question: What challenges might the woman on the motorcycle face in this situation? Please answer in one sentence. Answer: The woman on the motorcycle faces challenges in this situation. Please answer in one sentence. Question: What challenges might the woman on the motorcycle face in this situation? Please answer in one sentence. Answer: The woman on the motorcycle faces challenges in this situation. Please answer in one sentence. Question: What challenges might the woman on the motorcycle face in this situation? Please answer in one sentence. Answer: The woman on the motorcycle faces challenges in this situation. Please answer in one sentence. Question: What challenges might the woman on the motorcycle face in this situation? Please answer in one sentence. Answer: The woman on the motorcycle faces challenges in this situation. Please answer in one sentence. Question: What challenges might the woman on the motorcycle face in this situation? Please answer in one sentence. Answer: The woman on the motorcycle faces challenges in this situation. Please\n",
      "He is standing on the skateboard\n",
      "The boy is standing on a skateboard\n",
      "The boy is about to fall off his skateboard\n",
      "umbrellas\n",
      "The main features of this image are a man and a woman with umbrellas, a dog, and a body of water\n",
      "Umbrellas provide protection from the rain.\n"
     ]
    }
   ],
   "source": [
    "from transformers import Blip2Processor, Blip2ForConditionalGeneration\n",
    "import torch\n",
    "from PIL import Image\n",
    "import requests\n",
    "import os\n",
    "from tqdm.auto import tqdm\n",
    "import jsonlines\n",
    "import json\n",
    "import argparse\n",
    "\n",
    "\n",
    "args = {\n",
    "    \"file_path\": \"../playground/data/coco2014_val_qa_eval/qa90_questions.jsonl\",\n",
    "    \"language\" : 'en',\n",
    "    \"img_dir\": \"../playground/data/eval/pope/val2014/COCO_val2014_\",\n",
    "    \"model_path\": \"Salesforce/blip2-opt-2.7b\",\n",
    "    \"benchmark_name\": \"coco2014_val_qa_eval\",\n",
    "    \"num_beams\": 5,\n",
    "    \"max_length\": 1024,\n",
    "    \"min_length\": 1,\n",
    "    \"top_p\": 0.9,\n",
    "    \"repetition_penalty\": 1.5,\n",
    "    \"length_penalty\": 1.0,\n",
    "    \"temperature\": 1,\n",
    "}\n",
    "\n",
    "args = argparse.Namespace(**args)\n",
    "output_dir = f'/data/MLP/cschoi/LLaVA/generation_data/generated_data/benchmark_data/[{args.model_path.replace(\"/\", \"-\")}30]_[{args.benchmark_name}]_[{args.language}].json'  # Output file path\n",
    "\n",
    "\n",
    "os.environ[\"CUDA_VISIBLE_DEVICES\"] = \"7\"\n",
    "device = \"cuda:7\" if torch.cuda.is_available() else \"cpu\"\n",
    "\n",
    "processor = Blip2Processor.from_pretrained(args.model_path)\n",
    "model = Blip2ForConditionalGeneration.from_pretrained(args.model_path)\n",
    "model.to(device)\n",
    "\n",
    "\n",
    "\n",
    "with jsonlines.open(args.file_path, 'r') as reader:\n",
    "    output_data = []  # Output data\n",
    "    # Iterate over each line in the file\n",
    "    for line in tqdm(reader):\n",
    "        # line is a dict of the json\n",
    "        img_path = args.img_dir+line['image']\n",
    "        image = Image.open(img_path).convert(\"RGB\")\n",
    "        prompt = 'Question: ' + line[\"text\"] + ' Answer:'\n",
    "        inputs = processor(images=image, text=prompt, return_tensors=\"pt\").to(device)\n",
    "\n",
    "        outputs = model.generate(\n",
    "            **inputs,\n",
    "            do_sample=False,\n",
    "            num_beams=args.num_beams,\n",
    "            max_length=args.max_length,\n",
    "            min_length=args.min_length,\n",
    "            top_p=args.top_p,\n",
    "            repetition_penalty=args.repetition_penalty,\n",
    "            length_penalty=args.length_penalty,\n",
    "            temperature=args.temperature,\n",
    "        )\n",
    "\n",
    "        generated_text = processor.batch_decode(outputs, skip_special_tokens=True)[0].strip()\n",
    "\n",
    "        \n",
    "\n",
    "        print(generated_text)\n",
    "        line['answer'] = ' '.join(generated_text.split()[:30])\n",
    "        line['model'] = args.model_path.replace(\"/\", \"-\")\n",
    "        output_data.append(line)  # Add the line to the output data\n",
    "\n",
    "# Write the output data to a JSON file\n",
    "with open(output_dir, 'w') as outfile:\n",
    "    json.dump(output_data, outfile, indent=4, ensure_ascii=False)"
   ]
  },
  {
   "cell_type": "markdown",
   "metadata": {},
   "source": [
    "# BLIP 한국어"
   ]
  },
  {
   "cell_type": "code",
   "execution_count": 1,
   "metadata": {},
   "outputs": [
    {
     "name": "stderr",
     "output_type": "stream",
     "text": [
      "/data/MLP/cschoi/LLaVA/.venv/lib/python3.8/site-packages/setuptools/distutils_patch.py:25: UserWarning: Distutils was imported before Setuptools. This usage is discouraged and may exhibit undesirable behaviors or errors. Please use Setuptools' objects directly or at least import Setuptools first.\n",
      "  warnings.warn(\n"
     ]
    },
    {
     "data": {
      "application/vnd.jupyter.widget-view+json": {
       "model_id": "1d3d4113c3d04ba7b3539ee173cc38ea",
       "version_major": 2,
       "version_minor": 0
      },
      "text/plain": [
       "Loading checkpoint shards:   0%|          | 0/2 [00:00<?, ?it/s]"
      ]
     },
     "metadata": {},
     "output_type": "display_data"
    },
    {
     "data": {
      "application/vnd.jupyter.widget-view+json": {
       "model_id": "9a34200a184645be89280c191c08cd39",
       "version_major": 2,
       "version_minor": 0
      },
      "text/plain": [
       "  0%|          | 0/90 [00:00<?, ?it/s]"
      ]
     },
     "metadata": {},
     "output_type": "display_data"
    },
    {
     "name": "stdout",
     "output_type": "stream",
     "text": [
      "이미지 개의 두,\n",
      "이미지의 개화할 분당,\n",
      "이러한 가치을 만큼, \"다음\"\n",
      "이미지 테의 물거다.\n",
      "그런 이제 다음\n",
      "이 테의블에 많다가, '한' (the) is a common Korean word for table.\n",
      "이 문장의 가는, '패당'한 주용.\n",
      "이 가요일 문력하다.\n",
      "고양이나 노특한 일단, 'cat' is a Korean word for cat.\n",
      "이미지 개 는\n",
      "그런지 않을 다니혼해.\n",
      "이 개도에 눀의할다.\n",
      "짐 가뱅이 나왔다.\n",
      "그런 이제 다음.\n",
      "직원들이 로그 화하닉,\n",
      "이미지의 복격 한다.\n",
      "제공되었다.\n",
      "기자를 많이 아닌, \"혜학\" (mountain) is a mountain range in Korea.\n",
      "이미지의 묰경 한다.\n",
      "이 가장 문림의한다.\n",
      "해변에 우의 목겨, '팬'\n",
      "집이 걸설 단독한달,\n",
      "이 거요?\n",
      "현재 상태이 될까?\n",
      "피자가 몇 이미하다.\n",
      "팬들이 일정하공 남당\n",
      "피자들을 여기하니 많이\n",
      "개 있어도 몇은 5 donuts\n",
      "그런저 이 민의한다. Answer: The box is empty\n",
      "그런 이 도시의 안할, \"팬\"\n",
      "이미지 감을 남다. Answer: The man is wearing a grey sweatshirt\n",
      "이 가장 많을던, '특'한다.\n",
      "그 남자는 오후이니, '한' (the) is a word that means \"a person\" in Korean.\n",
      "그려있님 이 만을한, '화' (giraffe) is a member of the family Giraffidae.\n",
      "그런 이제 대답하을, '화'\n",
      "근처이 왜 날문다.\n",
      "이미지의 개 묵단할 숙키\n",
      "관한 사진의 문력,\n",
      "기리에 대해 서의\n",
      "이 가장 많을던, '포함' (tiger) is a common name for the tiger in Thailand.\n",
      "그런저 이 민의탄단, 'Tiger Mask'\n",
      "이 가장 많을던, '화한' (tiger) is a popular street art in Seoul.\n",
      "이미지의 개패 물학\n",
      "제공되 해주다.\n",
      "도로 차고에 확인하다.\n",
      "이미지 강의 논패한다.\n",
      "장면에 문의 가다.\n",
      "그 남자의 이례적인 얼굴 장시\n",
      "한 문장이 일부터고, '다' (the) plane is landing\n",
      "한 문장이 일부터, '고'다.\n",
      "환경적 이 비밀일,\n",
      "그 빨리에 소피의해, '다' (cat) is a common name for cats in Korea.\n",
      "주어로 대답하겠을 통합.\n",
      "고양이나 일단 많은 '팬'한, \"ㅇ\" (cat)\n",
      "이미지의 표간 댓다.\n",
      "한 문장의 신곡방탄당, 'The car is parked at the stop sign'\n",
      "해당 지역의 댄화를 얻기, 'The car is a volkswagen beetle'\n",
      "그런요, 이 묘확일한다.\n",
      "한 문장이 설명했답고, 'I am a man'\n",
      "전화를 하지 못이다.\n",
      "개는 어울다.\n",
      "한 문장이 요름다.\n",
      "개인에 대답해 주목했습니다.\n",
      "이미지 까을 받다.\n",
      "이 가장 문림의한다.\n",
      "이 환경에 대한민다을 새끼, 'The elephant is a wild animal and it's not suitable for captivity'\n",
      "오렌지 개인 당했단\n",
      "이 그림에 무의한다.\n",
      "개인 식단에 대해를 통하는\n",
      "이미지의 남게 한다.\n",
      "이미지의 묰고 패다.\n",
      "그런 오전이 많니, '포' (duck) is a Korean word for goose.\n",
      "그 작은 다르진, '탈'하단.\n",
      "제공되었다.\n",
      "작은 같아나 많다.\n",
      "이미지의 몇 개다.\n",
      "그러다 이제 나은함했진, 'I'm not sure what you're asking.\n",
      "이 모임의 가능한다.\n",
      "이미지의 묰과 한다.\n",
      "한 문장이 일부터, \"극단\"\n",
      "이 기을 변화하짓돼,\n",
      "그 사람이 바와, '태다'하느\n",
      "그런지의 시판 내다.\n",
      "이 가장 많을던, '태다' (the cow) is a common term used in rural areas to refer the person who rides on it.\n",
      "이미지의 감탕 복항,\n",
      "제공되 해주다.\n",
      "이 가장 문레의한다.\n",
      "그 남자의 여런다.\n",
      "이 미지의 특별한각, '다'\n",
      "이 비 가장는 '호일'한다.\n"
     ]
    }
   ],
   "source": [
    "from transformers import Blip2Processor, Blip2ForConditionalGeneration\n",
    "import torch\n",
    "from PIL import Image\n",
    "import requests\n",
    "import os\n",
    "from tqdm.auto import tqdm\n",
    "import jsonlines\n",
    "import json\n",
    "import argparse\n",
    "\n",
    "\n",
    "args = {\n",
    "    \"file_path\": \"/data/MLP/cschoi/LLaVA/generation_data/generated_data/benchmark_data/long/[gpt-4-vision-preview]_[coco2014_val_qa_eval]_[ko].json\",\n",
    "    \"language\" : 'ko',\n",
    "    \"img_dir\": \"../playground/data/eval/pope/val2014/COCO_val2014_\",\n",
    "    \"model_path\": \"Salesforce/blip2-opt-2.7b\",\n",
    "    \"benchmark_name\": \"coco2014_val_qa_eval\",\n",
    "    \"num_beams\": 1,\n",
    "    \"max_length\": 1024,\n",
    "    \"min_length\": 1,\n",
    "    \"top_p\": 0.9,\n",
    "    \"repetition_penalty\": 1.5,\n",
    "    \"length_penalty\": 1.0,\n",
    "    \"temperature\": 1,\n",
    "}\n",
    "\n",
    "args = argparse.Namespace(**args)\n",
    "output_dir = f'/data/MLP/cschoi/LLaVA/generation_data/generated_data/benchmark_data/[{args.model_path.replace(\"/\", \"-\")}30]_[{args.benchmark_name}]_[{args.language}].json'  # Output file path\n",
    "\n",
    "\n",
    "os.environ[\"CUDA_VISIBLE_DEVICES\"] = \"0,1,2,3,4,5,6\"\n",
    "device = \"cuda:7\" if torch.cuda.is_available() else \"cpu\"\n",
    "\n",
    "processor = Blip2Processor.from_pretrained(args.model_path)\n",
    "model = Blip2ForConditionalGeneration.from_pretrained(args.model_path)\n",
    "model.to(device)\n",
    "\n",
    "\n",
    "\n",
    "with open(args.file_path, 'r') as reader:\n",
    "    output_data = []  # Output data\n",
    "    data = json.load(reader)  # Load the entire json file\n",
    "    # Iterate over each line in the file\n",
    "    for line in tqdm(data):\n",
    "        # line is a dict of the json\n",
    "        img_path = args.img_dir+line['image']\n",
    "        image = Image.open(img_path).convert(\"RGB\")\n",
    "\n",
    "        prompt = 'Question: ' + line[\"text\"] + ' Answer:'\n",
    "        inputs = processor(images=image, text=prompt, return_tensors=\"pt\").to(device)\n",
    "\n",
    "        outputs = model.generate(\n",
    "            **inputs,\n",
    "            do_sample=False,\n",
    "            num_beams=args.num_beams,\n",
    "            max_length=args.max_length,\n",
    "            min_length=args.min_length,\n",
    "            top_p=args.top_p,\n",
    "            repetition_penalty=args.repetition_penalty,\n",
    "            length_penalty=args.length_penalty,\n",
    "            temperature=args.temperature,\n",
    "        )\n",
    "\n",
    "        generated_text = processor.batch_decode(outputs, skip_special_tokens=True)[0].strip()\n",
    "        print(generated_text)\n",
    "        line['answer'] = ' '.join(generated_text.split()[:30])\n",
    "        line['model'] = args.model_path.replace(\"/\", \"-\")\n",
    "        output_data.append(line)  # Add the line to the output data\n",
    "\n",
    "# Write the output data to a JSON file\n",
    "with open(output_dir, 'w') as outfile:\n",
    "    json.dump(output_data, outfile, indent=4, ensure_ascii=False)"
   ]
  }
 ],
 "metadata": {
  "kernelspec": {
   "display_name": ".venv",
   "language": "python",
   "name": "python3"
  },
  "language_info": {
   "codemirror_mode": {
    "name": "ipython",
    "version": 3
   },
   "file_extension": ".py",
   "mimetype": "text/x-python",
   "name": "python",
   "nbconvert_exporter": "python",
   "pygments_lexer": "ipython3",
   "version": "3.8.8"
  },
  "vscode": {
   "interpreter": {
    "hash": "eba123e483de28802ce7dd32f7bff4247bcea6b80251ed6e89818aa7755e3ab5"
   }
  }
 },
 "nbformat": 4,
 "nbformat_minor": 2
}
